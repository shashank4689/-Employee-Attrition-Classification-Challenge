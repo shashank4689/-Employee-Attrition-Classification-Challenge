{
 "cells": [
  {
   "cell_type": "code",
   "execution_count": 1,
   "id": "0725c639",
   "metadata": {
    "execution": {
     "iopub.execute_input": "2024-01-16T17:10:27.112792Z",
     "iopub.status.busy": "2024-01-16T17:10:27.111989Z",
     "iopub.status.idle": "2024-01-16T17:10:30.025498Z",
     "shell.execute_reply": "2024-01-16T17:10:30.024285Z"
    },
    "papermill": {
     "duration": 2.939323,
     "end_time": "2024-01-16T17:10:30.028852",
     "exception": false,
     "start_time": "2024-01-16T17:10:27.089529",
     "status": "completed"
    },
    "tags": []
   },
   "outputs": [],
   "source": [
    "import pandas as pd \n",
    "import numpy as np \n",
    "import seaborn as sns \n",
    "import matplotlib.pyplot as plt\n",
    "import plotly.express as px\n",
    "\n",
    "import warnings \n",
    "warnings.filterwarnings('ignore')"
   ]
  },
  {
   "cell_type": "code",
   "execution_count": 2,
   "id": "e5511847",
   "metadata": {
    "execution": {
     "iopub.execute_input": "2024-01-16T17:10:30.069547Z",
     "iopub.status.busy": "2024-01-16T17:10:30.068917Z",
     "iopub.status.idle": "2024-01-16T17:10:30.118866Z",
     "shell.execute_reply": "2024-01-16T17:10:30.117760Z"
    },
    "papermill": {
     "duration": 0.073184,
     "end_time": "2024-01-16T17:10:30.121624",
     "exception": false,
     "start_time": "2024-01-16T17:10:30.048440",
     "status": "completed"
    },
    "tags": []
   },
   "outputs": [],
   "source": [
    "EA = pd.read_csv(\"/kaggle/input/ipba17-grade-ml-case-study-classification-code/train.csv\")"
   ]
  },
  {
   "cell_type": "code",
   "execution_count": 3,
   "id": "4b068abb",
   "metadata": {
    "execution": {
     "iopub.execute_input": "2024-01-16T17:10:30.162702Z",
     "iopub.status.busy": "2024-01-16T17:10:30.162296Z",
     "iopub.status.idle": "2024-01-16T17:10:30.201434Z",
     "shell.execute_reply": "2024-01-16T17:10:30.200596Z"
    },
    "papermill": {
     "duration": 0.06199,
     "end_time": "2024-01-16T17:10:30.203517",
     "exception": false,
     "start_time": "2024-01-16T17:10:30.141527",
     "status": "completed"
    },
    "tags": []
   },
   "outputs": [
    {
     "data": {
      "text/html": [
       "<div>\n",
       "<style scoped>\n",
       "    .dataframe tbody tr th:only-of-type {\n",
       "        vertical-align: middle;\n",
       "    }\n",
       "\n",
       "    .dataframe tbody tr th {\n",
       "        vertical-align: top;\n",
       "    }\n",
       "\n",
       "    .dataframe thead th {\n",
       "        text-align: right;\n",
       "    }\n",
       "</style>\n",
       "<table border=\"1\" class=\"dataframe\">\n",
       "  <thead>\n",
       "    <tr style=\"text-align: right;\">\n",
       "      <th></th>\n",
       "      <th>id</th>\n",
       "      <th>Age</th>\n",
       "      <th>BusinessTravel</th>\n",
       "      <th>DailyRate</th>\n",
       "      <th>Department</th>\n",
       "      <th>DistanceFromHome</th>\n",
       "      <th>Education</th>\n",
       "      <th>EducationField</th>\n",
       "      <th>EmployeeCount</th>\n",
       "      <th>EnvironmentSatisfaction</th>\n",
       "      <th>...</th>\n",
       "      <th>StandardHours</th>\n",
       "      <th>StockOptionLevel</th>\n",
       "      <th>TotalWorkingYears</th>\n",
       "      <th>TrainingTimesLastYear</th>\n",
       "      <th>WorkLifeBalance</th>\n",
       "      <th>YearsAtCompany</th>\n",
       "      <th>YearsInCurrentRole</th>\n",
       "      <th>YearsSinceLastPromotion</th>\n",
       "      <th>YearsWithCurrManager</th>\n",
       "      <th>Attrition</th>\n",
       "    </tr>\n",
       "  </thead>\n",
       "  <tbody>\n",
       "    <tr>\n",
       "      <th>0</th>\n",
       "      <td>0</td>\n",
       "      <td>36</td>\n",
       "      <td>Travel_Frequently</td>\n",
       "      <td>599</td>\n",
       "      <td>Research &amp; Development</td>\n",
       "      <td>24</td>\n",
       "      <td>3</td>\n",
       "      <td>Medical</td>\n",
       "      <td>1</td>\n",
       "      <td>4</td>\n",
       "      <td>...</td>\n",
       "      <td>80</td>\n",
       "      <td>1</td>\n",
       "      <td>10</td>\n",
       "      <td>2</td>\n",
       "      <td>3</td>\n",
       "      <td>10</td>\n",
       "      <td>0</td>\n",
       "      <td>7</td>\n",
       "      <td>8</td>\n",
       "      <td>0</td>\n",
       "    </tr>\n",
       "    <tr>\n",
       "      <th>1</th>\n",
       "      <td>1</td>\n",
       "      <td>35</td>\n",
       "      <td>Travel_Rarely</td>\n",
       "      <td>921</td>\n",
       "      <td>Sales</td>\n",
       "      <td>8</td>\n",
       "      <td>3</td>\n",
       "      <td>Other</td>\n",
       "      <td>1</td>\n",
       "      <td>1</td>\n",
       "      <td>...</td>\n",
       "      <td>80</td>\n",
       "      <td>1</td>\n",
       "      <td>4</td>\n",
       "      <td>3</td>\n",
       "      <td>3</td>\n",
       "      <td>4</td>\n",
       "      <td>2</td>\n",
       "      <td>0</td>\n",
       "      <td>3</td>\n",
       "      <td>0</td>\n",
       "    </tr>\n",
       "    <tr>\n",
       "      <th>2</th>\n",
       "      <td>2</td>\n",
       "      <td>32</td>\n",
       "      <td>Travel_Rarely</td>\n",
       "      <td>718</td>\n",
       "      <td>Sales</td>\n",
       "      <td>26</td>\n",
       "      <td>3</td>\n",
       "      <td>Marketing</td>\n",
       "      <td>1</td>\n",
       "      <td>3</td>\n",
       "      <td>...</td>\n",
       "      <td>80</td>\n",
       "      <td>2</td>\n",
       "      <td>4</td>\n",
       "      <td>3</td>\n",
       "      <td>3</td>\n",
       "      <td>3</td>\n",
       "      <td>2</td>\n",
       "      <td>1</td>\n",
       "      <td>2</td>\n",
       "      <td>0</td>\n",
       "    </tr>\n",
       "    <tr>\n",
       "      <th>3</th>\n",
       "      <td>3</td>\n",
       "      <td>38</td>\n",
       "      <td>Travel_Rarely</td>\n",
       "      <td>1488</td>\n",
       "      <td>Research &amp; Development</td>\n",
       "      <td>2</td>\n",
       "      <td>3</td>\n",
       "      <td>Medical</td>\n",
       "      <td>1</td>\n",
       "      <td>3</td>\n",
       "      <td>...</td>\n",
       "      <td>80</td>\n",
       "      <td>0</td>\n",
       "      <td>15</td>\n",
       "      <td>1</td>\n",
       "      <td>1</td>\n",
       "      <td>6</td>\n",
       "      <td>0</td>\n",
       "      <td>0</td>\n",
       "      <td>2</td>\n",
       "      <td>0</td>\n",
       "    </tr>\n",
       "    <tr>\n",
       "      <th>4</th>\n",
       "      <td>4</td>\n",
       "      <td>50</td>\n",
       "      <td>Travel_Rarely</td>\n",
       "      <td>1017</td>\n",
       "      <td>Research &amp; Development</td>\n",
       "      <td>5</td>\n",
       "      <td>4</td>\n",
       "      <td>Medical</td>\n",
       "      <td>1</td>\n",
       "      <td>2</td>\n",
       "      <td>...</td>\n",
       "      <td>80</td>\n",
       "      <td>0</td>\n",
       "      <td>31</td>\n",
       "      <td>0</td>\n",
       "      <td>3</td>\n",
       "      <td>31</td>\n",
       "      <td>14</td>\n",
       "      <td>4</td>\n",
       "      <td>10</td>\n",
       "      <td>1</td>\n",
       "    </tr>\n",
       "  </tbody>\n",
       "</table>\n",
       "<p>5 rows × 35 columns</p>\n",
       "</div>"
      ],
      "text/plain": [
       "   id  Age     BusinessTravel  DailyRate              Department  \\\n",
       "0   0   36  Travel_Frequently        599  Research & Development   \n",
       "1   1   35      Travel_Rarely        921                   Sales   \n",
       "2   2   32      Travel_Rarely        718                   Sales   \n",
       "3   3   38      Travel_Rarely       1488  Research & Development   \n",
       "4   4   50      Travel_Rarely       1017  Research & Development   \n",
       "\n",
       "   DistanceFromHome  Education EducationField  EmployeeCount  \\\n",
       "0                24          3        Medical              1   \n",
       "1                 8          3          Other              1   \n",
       "2                26          3      Marketing              1   \n",
       "3                 2          3        Medical              1   \n",
       "4                 5          4        Medical              1   \n",
       "\n",
       "   EnvironmentSatisfaction  ... StandardHours  StockOptionLevel  \\\n",
       "0                        4  ...            80                 1   \n",
       "1                        1  ...            80                 1   \n",
       "2                        3  ...            80                 2   \n",
       "3                        3  ...            80                 0   \n",
       "4                        2  ...            80                 0   \n",
       "\n",
       "   TotalWorkingYears  TrainingTimesLastYear WorkLifeBalance  YearsAtCompany  \\\n",
       "0                 10                      2               3              10   \n",
       "1                  4                      3               3               4   \n",
       "2                  4                      3               3               3   \n",
       "3                 15                      1               1               6   \n",
       "4                 31                      0               3              31   \n",
       "\n",
       "  YearsInCurrentRole  YearsSinceLastPromotion  YearsWithCurrManager  Attrition  \n",
       "0                  0                        7                     8          0  \n",
       "1                  2                        0                     3          0  \n",
       "2                  2                        1                     2          0  \n",
       "3                  0                        0                     2          0  \n",
       "4                 14                        4                    10          1  \n",
       "\n",
       "[5 rows x 35 columns]"
      ]
     },
     "execution_count": 3,
     "metadata": {},
     "output_type": "execute_result"
    }
   ],
   "source": [
    "EA.head()"
   ]
  },
  {
   "cell_type": "code",
   "execution_count": 4,
   "id": "9c237618",
   "metadata": {
    "execution": {
     "iopub.execute_input": "2024-01-16T17:10:30.245943Z",
     "iopub.status.busy": "2024-01-16T17:10:30.245096Z",
     "iopub.status.idle": "2024-01-16T17:10:30.254410Z",
     "shell.execute_reply": "2024-01-16T17:10:30.253353Z"
    },
    "papermill": {
     "duration": 0.033509,
     "end_time": "2024-01-16T17:10:30.256714",
     "exception": false,
     "start_time": "2024-01-16T17:10:30.223205",
     "status": "completed"
    },
    "tags": []
   },
   "outputs": [
    {
     "data": {
      "text/plain": [
       "id                           int64\n",
       "Age                          int64\n",
       "BusinessTravel              object\n",
       "DailyRate                    int64\n",
       "Department                  object\n",
       "DistanceFromHome             int64\n",
       "Education                    int64\n",
       "EducationField              object\n",
       "EmployeeCount                int64\n",
       "EnvironmentSatisfaction      int64\n",
       "Gender                      object\n",
       "HourlyRate                   int64\n",
       "JobInvolvement               int64\n",
       "JobLevel                     int64\n",
       "JobRole                     object\n",
       "JobSatisfaction              int64\n",
       "MaritalStatus               object\n",
       "MonthlyIncome                int64\n",
       "MonthlyRate                  int64\n",
       "NumCompaniesWorked           int64\n",
       "Over18                      object\n",
       "OverTime                    object\n",
       "PercentSalaryHike            int64\n",
       "PerformanceRating            int64\n",
       "RelationshipSatisfaction     int64\n",
       "StandardHours                int64\n",
       "StockOptionLevel             int64\n",
       "TotalWorkingYears            int64\n",
       "TrainingTimesLastYear        int64\n",
       "WorkLifeBalance              int64\n",
       "YearsAtCompany               int64\n",
       "YearsInCurrentRole           int64\n",
       "YearsSinceLastPromotion      int64\n",
       "YearsWithCurrManager         int64\n",
       "Attrition                    int64\n",
       "dtype: object"
      ]
     },
     "execution_count": 4,
     "metadata": {},
     "output_type": "execute_result"
    }
   ],
   "source": [
    "EA.dtypes"
   ]
  },
  {
   "cell_type": "code",
   "execution_count": 5,
   "id": "cbf086b6",
   "metadata": {
    "execution": {
     "iopub.execute_input": "2024-01-16T17:10:30.299320Z",
     "iopub.status.busy": "2024-01-16T17:10:30.298628Z",
     "iopub.status.idle": "2024-01-16T17:10:30.304771Z",
     "shell.execute_reply": "2024-01-16T17:10:30.303756Z"
    },
    "papermill": {
     "duration": 0.029966,
     "end_time": "2024-01-16T17:10:30.307059",
     "exception": false,
     "start_time": "2024-01-16T17:10:30.277093",
     "status": "completed"
    },
    "tags": []
   },
   "outputs": [
    {
     "data": {
      "text/plain": [
       "(1677, 35)"
      ]
     },
     "execution_count": 5,
     "metadata": {},
     "output_type": "execute_result"
    }
   ],
   "source": [
    "EA.shape"
   ]
  },
  {
   "cell_type": "code",
   "execution_count": 6,
   "id": "e849da79",
   "metadata": {
    "execution": {
     "iopub.execute_input": "2024-01-16T17:10:30.349521Z",
     "iopub.status.busy": "2024-01-16T17:10:30.349099Z",
     "iopub.status.idle": "2024-01-16T17:10:30.359795Z",
     "shell.execute_reply": "2024-01-16T17:10:30.359024Z"
    },
    "papermill": {
     "duration": 0.034548,
     "end_time": "2024-01-16T17:10:30.361807",
     "exception": false,
     "start_time": "2024-01-16T17:10:30.327259",
     "status": "completed"
    },
    "tags": []
   },
   "outputs": [
    {
     "data": {
      "text/plain": [
       "id                          0\n",
       "Age                         0\n",
       "BusinessTravel              0\n",
       "DailyRate                   0\n",
       "Department                  0\n",
       "DistanceFromHome            0\n",
       "Education                   0\n",
       "EducationField              0\n",
       "EmployeeCount               0\n",
       "EnvironmentSatisfaction     0\n",
       "Gender                      0\n",
       "HourlyRate                  0\n",
       "JobInvolvement              0\n",
       "JobLevel                    0\n",
       "JobRole                     0\n",
       "JobSatisfaction             0\n",
       "MaritalStatus               0\n",
       "MonthlyIncome               0\n",
       "MonthlyRate                 0\n",
       "NumCompaniesWorked          0\n",
       "Over18                      0\n",
       "OverTime                    0\n",
       "PercentSalaryHike           0\n",
       "PerformanceRating           0\n",
       "RelationshipSatisfaction    0\n",
       "StandardHours               0\n",
       "StockOptionLevel            0\n",
       "TotalWorkingYears           0\n",
       "TrainingTimesLastYear       0\n",
       "WorkLifeBalance             0\n",
       "YearsAtCompany              0\n",
       "YearsInCurrentRole          0\n",
       "YearsSinceLastPromotion     0\n",
       "YearsWithCurrManager        0\n",
       "Attrition                   0\n",
       "dtype: int64"
      ]
     },
     "execution_count": 6,
     "metadata": {},
     "output_type": "execute_result"
    }
   ],
   "source": [
    "EA.isnull().sum()"
   ]
  },
  {
   "cell_type": "code",
   "execution_count": 7,
   "id": "b8751358",
   "metadata": {
    "execution": {
     "iopub.execute_input": "2024-01-16T17:10:30.404714Z",
     "iopub.status.busy": "2024-01-16T17:10:30.404008Z",
     "iopub.status.idle": "2024-01-16T17:10:30.423288Z",
     "shell.execute_reply": "2024-01-16T17:10:30.422398Z"
    },
    "papermill": {
     "duration": 0.043348,
     "end_time": "2024-01-16T17:10:30.425451",
     "exception": false,
     "start_time": "2024-01-16T17:10:30.382103",
     "status": "completed"
    },
    "tags": []
   },
   "outputs": [
    {
     "data": {
      "text/html": [
       "<div>\n",
       "<style scoped>\n",
       "    .dataframe tbody tr th:only-of-type {\n",
       "        vertical-align: middle;\n",
       "    }\n",
       "\n",
       "    .dataframe tbody tr th {\n",
       "        vertical-align: top;\n",
       "    }\n",
       "\n",
       "    .dataframe thead th {\n",
       "        text-align: right;\n",
       "    }\n",
       "</style>\n",
       "<table border=\"1\" class=\"dataframe\">\n",
       "  <thead>\n",
       "    <tr style=\"text-align: right;\">\n",
       "      <th></th>\n",
       "      <th>id</th>\n",
       "      <th>Age</th>\n",
       "      <th>BusinessTravel</th>\n",
       "      <th>DailyRate</th>\n",
       "      <th>Department</th>\n",
       "      <th>DistanceFromHome</th>\n",
       "      <th>Education</th>\n",
       "      <th>EducationField</th>\n",
       "      <th>EmployeeCount</th>\n",
       "      <th>EnvironmentSatisfaction</th>\n",
       "      <th>...</th>\n",
       "      <th>StandardHours</th>\n",
       "      <th>StockOptionLevel</th>\n",
       "      <th>TotalWorkingYears</th>\n",
       "      <th>TrainingTimesLastYear</th>\n",
       "      <th>WorkLifeBalance</th>\n",
       "      <th>YearsAtCompany</th>\n",
       "      <th>YearsInCurrentRole</th>\n",
       "      <th>YearsSinceLastPromotion</th>\n",
       "      <th>YearsWithCurrManager</th>\n",
       "      <th>Attrition</th>\n",
       "    </tr>\n",
       "  </thead>\n",
       "  <tbody>\n",
       "    <tr>\n",
       "      <th>0</th>\n",
       "      <td>0</td>\n",
       "      <td>36</td>\n",
       "      <td>Travel_Frequently</td>\n",
       "      <td>599</td>\n",
       "      <td>Research &amp; Development</td>\n",
       "      <td>24</td>\n",
       "      <td>3</td>\n",
       "      <td>Medical</td>\n",
       "      <td>1</td>\n",
       "      <td>4</td>\n",
       "      <td>...</td>\n",
       "      <td>80</td>\n",
       "      <td>1</td>\n",
       "      <td>10</td>\n",
       "      <td>2</td>\n",
       "      <td>3</td>\n",
       "      <td>10</td>\n",
       "      <td>0</td>\n",
       "      <td>7</td>\n",
       "      <td>8</td>\n",
       "      <td>0</td>\n",
       "    </tr>\n",
       "    <tr>\n",
       "      <th>1</th>\n",
       "      <td>1</td>\n",
       "      <td>35</td>\n",
       "      <td>Travel_Rarely</td>\n",
       "      <td>921</td>\n",
       "      <td>Sales</td>\n",
       "      <td>8</td>\n",
       "      <td>3</td>\n",
       "      <td>Other</td>\n",
       "      <td>1</td>\n",
       "      <td>1</td>\n",
       "      <td>...</td>\n",
       "      <td>80</td>\n",
       "      <td>1</td>\n",
       "      <td>4</td>\n",
       "      <td>3</td>\n",
       "      <td>3</td>\n",
       "      <td>4</td>\n",
       "      <td>2</td>\n",
       "      <td>0</td>\n",
       "      <td>3</td>\n",
       "      <td>0</td>\n",
       "    </tr>\n",
       "    <tr>\n",
       "      <th>2</th>\n",
       "      <td>2</td>\n",
       "      <td>32</td>\n",
       "      <td>Travel_Rarely</td>\n",
       "      <td>718</td>\n",
       "      <td>Sales</td>\n",
       "      <td>26</td>\n",
       "      <td>3</td>\n",
       "      <td>Marketing</td>\n",
       "      <td>1</td>\n",
       "      <td>3</td>\n",
       "      <td>...</td>\n",
       "      <td>80</td>\n",
       "      <td>2</td>\n",
       "      <td>4</td>\n",
       "      <td>3</td>\n",
       "      <td>3</td>\n",
       "      <td>3</td>\n",
       "      <td>2</td>\n",
       "      <td>1</td>\n",
       "      <td>2</td>\n",
       "      <td>0</td>\n",
       "    </tr>\n",
       "    <tr>\n",
       "      <th>3</th>\n",
       "      <td>3</td>\n",
       "      <td>38</td>\n",
       "      <td>Travel_Rarely</td>\n",
       "      <td>1488</td>\n",
       "      <td>Research &amp; Development</td>\n",
       "      <td>2</td>\n",
       "      <td>3</td>\n",
       "      <td>Medical</td>\n",
       "      <td>1</td>\n",
       "      <td>3</td>\n",
       "      <td>...</td>\n",
       "      <td>80</td>\n",
       "      <td>0</td>\n",
       "      <td>15</td>\n",
       "      <td>1</td>\n",
       "      <td>1</td>\n",
       "      <td>6</td>\n",
       "      <td>0</td>\n",
       "      <td>0</td>\n",
       "      <td>2</td>\n",
       "      <td>0</td>\n",
       "    </tr>\n",
       "    <tr>\n",
       "      <th>4</th>\n",
       "      <td>4</td>\n",
       "      <td>50</td>\n",
       "      <td>Travel_Rarely</td>\n",
       "      <td>1017</td>\n",
       "      <td>Research &amp; Development</td>\n",
       "      <td>5</td>\n",
       "      <td>4</td>\n",
       "      <td>Medical</td>\n",
       "      <td>1</td>\n",
       "      <td>2</td>\n",
       "      <td>...</td>\n",
       "      <td>80</td>\n",
       "      <td>0</td>\n",
       "      <td>31</td>\n",
       "      <td>0</td>\n",
       "      <td>3</td>\n",
       "      <td>31</td>\n",
       "      <td>14</td>\n",
       "      <td>4</td>\n",
       "      <td>10</td>\n",
       "      <td>1</td>\n",
       "    </tr>\n",
       "  </tbody>\n",
       "</table>\n",
       "<p>5 rows × 35 columns</p>\n",
       "</div>"
      ],
      "text/plain": [
       "   id  Age     BusinessTravel  DailyRate              Department  \\\n",
       "0   0   36  Travel_Frequently        599  Research & Development   \n",
       "1   1   35      Travel_Rarely        921                   Sales   \n",
       "2   2   32      Travel_Rarely        718                   Sales   \n",
       "3   3   38      Travel_Rarely       1488  Research & Development   \n",
       "4   4   50      Travel_Rarely       1017  Research & Development   \n",
       "\n",
       "   DistanceFromHome  Education EducationField  EmployeeCount  \\\n",
       "0                24          3        Medical              1   \n",
       "1                 8          3          Other              1   \n",
       "2                26          3      Marketing              1   \n",
       "3                 2          3        Medical              1   \n",
       "4                 5          4        Medical              1   \n",
       "\n",
       "   EnvironmentSatisfaction  ... StandardHours  StockOptionLevel  \\\n",
       "0                        4  ...            80                 1   \n",
       "1                        1  ...            80                 1   \n",
       "2                        3  ...            80                 2   \n",
       "3                        3  ...            80                 0   \n",
       "4                        2  ...            80                 0   \n",
       "\n",
       "   TotalWorkingYears  TrainingTimesLastYear WorkLifeBalance  YearsAtCompany  \\\n",
       "0                 10                      2               3              10   \n",
       "1                  4                      3               3               4   \n",
       "2                  4                      3               3               3   \n",
       "3                 15                      1               1               6   \n",
       "4                 31                      0               3              31   \n",
       "\n",
       "  YearsInCurrentRole  YearsSinceLastPromotion  YearsWithCurrManager  Attrition  \n",
       "0                  0                        7                     8          0  \n",
       "1                  2                        0                     3          0  \n",
       "2                  2                        1                     2          0  \n",
       "3                  0                        0                     2          0  \n",
       "4                 14                        4                    10          1  \n",
       "\n",
       "[5 rows x 35 columns]"
      ]
     },
     "execution_count": 7,
     "metadata": {},
     "output_type": "execute_result"
    }
   ],
   "source": [
    "EA.head()"
   ]
  },
  {
   "cell_type": "code",
   "execution_count": 8,
   "id": "cdcbed32",
   "metadata": {
    "execution": {
     "iopub.execute_input": "2024-01-16T17:10:30.470754Z",
     "iopub.status.busy": "2024-01-16T17:10:30.470023Z",
     "iopub.status.idle": "2024-01-16T17:10:30.479664Z",
     "shell.execute_reply": "2024-01-16T17:10:30.478884Z"
    },
    "papermill": {
     "duration": 0.034719,
     "end_time": "2024-01-16T17:10:30.481855",
     "exception": false,
     "start_time": "2024-01-16T17:10:30.447136",
     "status": "completed"
    },
    "tags": []
   },
   "outputs": [
    {
     "data": {
      "text/plain": [
       "id                          0\n",
       "Age                         0\n",
       "BusinessTravel              0\n",
       "DailyRate                   0\n",
       "Department                  0\n",
       "DistanceFromHome            0\n",
       "Education                   0\n",
       "EducationField              0\n",
       "EmployeeCount               0\n",
       "EnvironmentSatisfaction     0\n",
       "Gender                      0\n",
       "HourlyRate                  0\n",
       "JobInvolvement              0\n",
       "JobLevel                    0\n",
       "JobRole                     0\n",
       "JobSatisfaction             0\n",
       "MaritalStatus               0\n",
       "MonthlyIncome               0\n",
       "MonthlyRate                 0\n",
       "NumCompaniesWorked          0\n",
       "Over18                      0\n",
       "OverTime                    0\n",
       "PercentSalaryHike           0\n",
       "PerformanceRating           0\n",
       "RelationshipSatisfaction    0\n",
       "StandardHours               0\n",
       "StockOptionLevel            0\n",
       "TotalWorkingYears           0\n",
       "TrainingTimesLastYear       0\n",
       "WorkLifeBalance             0\n",
       "YearsAtCompany              0\n",
       "YearsInCurrentRole          0\n",
       "YearsSinceLastPromotion     0\n",
       "YearsWithCurrManager        0\n",
       "Attrition                   0\n",
       "dtype: int64"
      ]
     },
     "execution_count": 8,
     "metadata": {},
     "output_type": "execute_result"
    }
   ],
   "source": [
    "EA.isna().sum()"
   ]
  },
  {
   "cell_type": "code",
   "execution_count": 9,
   "id": "c52df39f",
   "metadata": {
    "execution": {
     "iopub.execute_input": "2024-01-16T17:10:30.525373Z",
     "iopub.status.busy": "2024-01-16T17:10:30.524938Z",
     "iopub.status.idle": "2024-01-16T17:10:30.546317Z",
     "shell.execute_reply": "2024-01-16T17:10:30.545148Z"
    },
    "papermill": {
     "duration": 0.045919,
     "end_time": "2024-01-16T17:10:30.548713",
     "exception": false,
     "start_time": "2024-01-16T17:10:30.502794",
     "status": "completed"
    },
    "tags": []
   },
   "outputs": [
    {
     "data": {
      "text/plain": [
       "id                          1677\n",
       "Age                           43\n",
       "BusinessTravel                 3\n",
       "DailyRate                    625\n",
       "Department                     3\n",
       "DistanceFromHome              29\n",
       "Education                      6\n",
       "EducationField                 6\n",
       "EmployeeCount                  1\n",
       "EnvironmentSatisfaction        4\n",
       "Gender                         2\n",
       "HourlyRate                    71\n",
       "JobInvolvement                 4\n",
       "JobLevel                       6\n",
       "JobRole                        9\n",
       "JobSatisfaction                4\n",
       "MaritalStatus                  3\n",
       "MonthlyIncome                895\n",
       "MonthlyRate                  903\n",
       "NumCompaniesWorked            10\n",
       "Over18                         1\n",
       "OverTime                       2\n",
       "PercentSalaryHike             15\n",
       "PerformanceRating              2\n",
       "RelationshipSatisfaction       4\n",
       "StandardHours                  1\n",
       "StockOptionLevel               4\n",
       "TotalWorkingYears             41\n",
       "TrainingTimesLastYear          7\n",
       "WorkLifeBalance                4\n",
       "YearsAtCompany                34\n",
       "YearsInCurrentRole            19\n",
       "YearsSinceLastPromotion       16\n",
       "YearsWithCurrManager          18\n",
       "Attrition                      2\n",
       "dtype: int64"
      ]
     },
     "execution_count": 9,
     "metadata": {},
     "output_type": "execute_result"
    }
   ],
   "source": [
    "EA.nunique()"
   ]
  },
  {
   "cell_type": "code",
   "execution_count": 10,
   "id": "eeefe079",
   "metadata": {
    "execution": {
     "iopub.execute_input": "2024-01-16T17:10:30.593165Z",
     "iopub.status.busy": "2024-01-16T17:10:30.592111Z",
     "iopub.status.idle": "2024-01-16T17:10:30.596894Z",
     "shell.execute_reply": "2024-01-16T17:10:30.596051Z"
    },
    "papermill": {
     "duration": 0.029403,
     "end_time": "2024-01-16T17:10:30.599043",
     "exception": false,
     "start_time": "2024-01-16T17:10:30.569640",
     "status": "completed"
    },
    "tags": []
   },
   "outputs": [],
   "source": [
    "to_drop=['id','JobLevel','EmployeeCount','StandardHours']"
   ]
  },
  {
   "cell_type": "code",
   "execution_count": 11,
   "id": "42ddd5b0",
   "metadata": {
    "execution": {
     "iopub.execute_input": "2024-01-16T17:10:30.703754Z",
     "iopub.status.busy": "2024-01-16T17:10:30.703341Z",
     "iopub.status.idle": "2024-01-16T17:10:30.710479Z",
     "shell.execute_reply": "2024-01-16T17:10:30.709332Z"
    },
    "papermill": {
     "duration": 0.032456,
     "end_time": "2024-01-16T17:10:30.712885",
     "exception": false,
     "start_time": "2024-01-16T17:10:30.680429",
     "status": "completed"
    },
    "tags": []
   },
   "outputs": [],
   "source": [
    "EA.drop(to_drop, axis=1, inplace=True)"
   ]
  },
  {
   "cell_type": "code",
   "execution_count": 12,
   "id": "ba799fb3",
   "metadata": {
    "execution": {
     "iopub.execute_input": "2024-01-16T17:10:30.761088Z",
     "iopub.status.busy": "2024-01-16T17:10:30.760694Z",
     "iopub.status.idle": "2024-01-16T17:10:30.780574Z",
     "shell.execute_reply": "2024-01-16T17:10:30.779782Z"
    },
    "papermill": {
     "duration": 0.045625,
     "end_time": "2024-01-16T17:10:30.783073",
     "exception": false,
     "start_time": "2024-01-16T17:10:30.737448",
     "status": "completed"
    },
    "tags": []
   },
   "outputs": [
    {
     "data": {
      "text/html": [
       "<div>\n",
       "<style scoped>\n",
       "    .dataframe tbody tr th:only-of-type {\n",
       "        vertical-align: middle;\n",
       "    }\n",
       "\n",
       "    .dataframe tbody tr th {\n",
       "        vertical-align: top;\n",
       "    }\n",
       "\n",
       "    .dataframe thead th {\n",
       "        text-align: right;\n",
       "    }\n",
       "</style>\n",
       "<table border=\"1\" class=\"dataframe\">\n",
       "  <thead>\n",
       "    <tr style=\"text-align: right;\">\n",
       "      <th></th>\n",
       "      <th>Age</th>\n",
       "      <th>BusinessTravel</th>\n",
       "      <th>DailyRate</th>\n",
       "      <th>Department</th>\n",
       "      <th>DistanceFromHome</th>\n",
       "      <th>Education</th>\n",
       "      <th>EducationField</th>\n",
       "      <th>EnvironmentSatisfaction</th>\n",
       "      <th>Gender</th>\n",
       "      <th>HourlyRate</th>\n",
       "      <th>...</th>\n",
       "      <th>RelationshipSatisfaction</th>\n",
       "      <th>StockOptionLevel</th>\n",
       "      <th>TotalWorkingYears</th>\n",
       "      <th>TrainingTimesLastYear</th>\n",
       "      <th>WorkLifeBalance</th>\n",
       "      <th>YearsAtCompany</th>\n",
       "      <th>YearsInCurrentRole</th>\n",
       "      <th>YearsSinceLastPromotion</th>\n",
       "      <th>YearsWithCurrManager</th>\n",
       "      <th>Attrition</th>\n",
       "    </tr>\n",
       "  </thead>\n",
       "  <tbody>\n",
       "    <tr>\n",
       "      <th>0</th>\n",
       "      <td>36</td>\n",
       "      <td>Travel_Frequently</td>\n",
       "      <td>599</td>\n",
       "      <td>Research &amp; Development</td>\n",
       "      <td>24</td>\n",
       "      <td>3</td>\n",
       "      <td>Medical</td>\n",
       "      <td>4</td>\n",
       "      <td>Male</td>\n",
       "      <td>42</td>\n",
       "      <td>...</td>\n",
       "      <td>2</td>\n",
       "      <td>1</td>\n",
       "      <td>10</td>\n",
       "      <td>2</td>\n",
       "      <td>3</td>\n",
       "      <td>10</td>\n",
       "      <td>0</td>\n",
       "      <td>7</td>\n",
       "      <td>8</td>\n",
       "      <td>0</td>\n",
       "    </tr>\n",
       "    <tr>\n",
       "      <th>1</th>\n",
       "      <td>35</td>\n",
       "      <td>Travel_Rarely</td>\n",
       "      <td>921</td>\n",
       "      <td>Sales</td>\n",
       "      <td>8</td>\n",
       "      <td>3</td>\n",
       "      <td>Other</td>\n",
       "      <td>1</td>\n",
       "      <td>Male</td>\n",
       "      <td>46</td>\n",
       "      <td>...</td>\n",
       "      <td>4</td>\n",
       "      <td>1</td>\n",
       "      <td>4</td>\n",
       "      <td>3</td>\n",
       "      <td>3</td>\n",
       "      <td>4</td>\n",
       "      <td>2</td>\n",
       "      <td>0</td>\n",
       "      <td>3</td>\n",
       "      <td>0</td>\n",
       "    </tr>\n",
       "    <tr>\n",
       "      <th>2</th>\n",
       "      <td>32</td>\n",
       "      <td>Travel_Rarely</td>\n",
       "      <td>718</td>\n",
       "      <td>Sales</td>\n",
       "      <td>26</td>\n",
       "      <td>3</td>\n",
       "      <td>Marketing</td>\n",
       "      <td>3</td>\n",
       "      <td>Male</td>\n",
       "      <td>80</td>\n",
       "      <td>...</td>\n",
       "      <td>4</td>\n",
       "      <td>2</td>\n",
       "      <td>4</td>\n",
       "      <td>3</td>\n",
       "      <td>3</td>\n",
       "      <td>3</td>\n",
       "      <td>2</td>\n",
       "      <td>1</td>\n",
       "      <td>2</td>\n",
       "      <td>0</td>\n",
       "    </tr>\n",
       "    <tr>\n",
       "      <th>3</th>\n",
       "      <td>38</td>\n",
       "      <td>Travel_Rarely</td>\n",
       "      <td>1488</td>\n",
       "      <td>Research &amp; Development</td>\n",
       "      <td>2</td>\n",
       "      <td>3</td>\n",
       "      <td>Medical</td>\n",
       "      <td>3</td>\n",
       "      <td>Female</td>\n",
       "      <td>40</td>\n",
       "      <td>...</td>\n",
       "      <td>3</td>\n",
       "      <td>0</td>\n",
       "      <td>15</td>\n",
       "      <td>1</td>\n",
       "      <td>1</td>\n",
       "      <td>6</td>\n",
       "      <td>0</td>\n",
       "      <td>0</td>\n",
       "      <td>2</td>\n",
       "      <td>0</td>\n",
       "    </tr>\n",
       "    <tr>\n",
       "      <th>4</th>\n",
       "      <td>50</td>\n",
       "      <td>Travel_Rarely</td>\n",
       "      <td>1017</td>\n",
       "      <td>Research &amp; Development</td>\n",
       "      <td>5</td>\n",
       "      <td>4</td>\n",
       "      <td>Medical</td>\n",
       "      <td>2</td>\n",
       "      <td>Female</td>\n",
       "      <td>37</td>\n",
       "      <td>...</td>\n",
       "      <td>3</td>\n",
       "      <td>0</td>\n",
       "      <td>31</td>\n",
       "      <td>0</td>\n",
       "      <td>3</td>\n",
       "      <td>31</td>\n",
       "      <td>14</td>\n",
       "      <td>4</td>\n",
       "      <td>10</td>\n",
       "      <td>1</td>\n",
       "    </tr>\n",
       "  </tbody>\n",
       "</table>\n",
       "<p>5 rows × 31 columns</p>\n",
       "</div>"
      ],
      "text/plain": [
       "   Age     BusinessTravel  DailyRate              Department  \\\n",
       "0   36  Travel_Frequently        599  Research & Development   \n",
       "1   35      Travel_Rarely        921                   Sales   \n",
       "2   32      Travel_Rarely        718                   Sales   \n",
       "3   38      Travel_Rarely       1488  Research & Development   \n",
       "4   50      Travel_Rarely       1017  Research & Development   \n",
       "\n",
       "   DistanceFromHome  Education EducationField  EnvironmentSatisfaction  \\\n",
       "0                24          3        Medical                        4   \n",
       "1                 8          3          Other                        1   \n",
       "2                26          3      Marketing                        3   \n",
       "3                 2          3        Medical                        3   \n",
       "4                 5          4        Medical                        2   \n",
       "\n",
       "   Gender  HourlyRate  ...  RelationshipSatisfaction StockOptionLevel  \\\n",
       "0    Male          42  ...                         2                1   \n",
       "1    Male          46  ...                         4                1   \n",
       "2    Male          80  ...                         4                2   \n",
       "3  Female          40  ...                         3                0   \n",
       "4  Female          37  ...                         3                0   \n",
       "\n",
       "   TotalWorkingYears TrainingTimesLastYear  WorkLifeBalance  YearsAtCompany  \\\n",
       "0                 10                     2                3              10   \n",
       "1                  4                     3                3               4   \n",
       "2                  4                     3                3               3   \n",
       "3                 15                     1                1               6   \n",
       "4                 31                     0                3              31   \n",
       "\n",
       "   YearsInCurrentRole YearsSinceLastPromotion YearsWithCurrManager  Attrition  \n",
       "0                   0                       7                    8          0  \n",
       "1                   2                       0                    3          0  \n",
       "2                   2                       1                    2          0  \n",
       "3                   0                       0                    2          0  \n",
       "4                  14                       4                   10          1  \n",
       "\n",
       "[5 rows x 31 columns]"
      ]
     },
     "execution_count": 12,
     "metadata": {},
     "output_type": "execute_result"
    }
   ],
   "source": [
    "EA.head()"
   ]
  },
  {
   "cell_type": "code",
   "execution_count": 13,
   "id": "29e70023",
   "metadata": {
    "execution": {
     "iopub.execute_input": "2024-01-16T17:10:30.829171Z",
     "iopub.status.busy": "2024-01-16T17:10:30.828148Z",
     "iopub.status.idle": "2024-01-16T17:10:30.843400Z",
     "shell.execute_reply": "2024-01-16T17:10:30.842573Z"
    },
    "papermill": {
     "duration": 0.040719,
     "end_time": "2024-01-16T17:10:30.845907",
     "exception": false,
     "start_time": "2024-01-16T17:10:30.805188",
     "status": "completed"
    },
    "tags": []
   },
   "outputs": [],
   "source": [
    "EA_dummies = pd.get_dummies(EA)\n"
   ]
  },
  {
   "cell_type": "code",
   "execution_count": 14,
   "id": "4a3eac0b",
   "metadata": {
    "execution": {
     "iopub.execute_input": "2024-01-16T17:10:30.892331Z",
     "iopub.status.busy": "2024-01-16T17:10:30.891218Z",
     "iopub.status.idle": "2024-01-16T17:10:30.911471Z",
     "shell.execute_reply": "2024-01-16T17:10:30.910126Z"
    },
    "papermill": {
     "duration": 0.046505,
     "end_time": "2024-01-16T17:10:30.914309",
     "exception": false,
     "start_time": "2024-01-16T17:10:30.867804",
     "status": "completed"
    },
    "tags": []
   },
   "outputs": [],
   "source": [
    "# Correlated column \n",
    "corr = EA_dummies.corr()"
   ]
  },
  {
   "cell_type": "code",
   "execution_count": 15,
   "id": "73eb20a3",
   "metadata": {
    "execution": {
     "iopub.execute_input": "2024-01-16T17:10:30.960932Z",
     "iopub.status.busy": "2024-01-16T17:10:30.960255Z",
     "iopub.status.idle": "2024-01-16T17:10:31.002319Z",
     "shell.execute_reply": "2024-01-16T17:10:31.001170Z"
    },
    "papermill": {
     "duration": 0.068531,
     "end_time": "2024-01-16T17:10:31.004832",
     "exception": false,
     "start_time": "2024-01-16T17:10:30.936301",
     "status": "completed"
    },
    "tags": []
   },
   "outputs": [
    {
     "data": {
      "text/plain": [
       "<Figure size 2400x2000 with 0 Axes>"
      ]
     },
     "metadata": {},
     "output_type": "display_data"
    }
   ],
   "source": [
    "plt.figure(figsize = (24,20))\n",
    "corr = corr[abs(corr) > 0.7]"
   ]
  },
  {
   "cell_type": "code",
   "execution_count": 16,
   "id": "1a8a601d",
   "metadata": {
    "execution": {
     "iopub.execute_input": "2024-01-16T17:10:31.050134Z",
     "iopub.status.busy": "2024-01-16T17:10:31.049739Z",
     "iopub.status.idle": "2024-01-16T17:10:32.094938Z",
     "shell.execute_reply": "2024-01-16T17:10:32.093614Z"
    },
    "papermill": {
     "duration": 1.072661,
     "end_time": "2024-01-16T17:10:32.099144",
     "exception": false,
     "start_time": "2024-01-16T17:10:31.026483",
     "status": "completed"
    },
    "tags": []
   },
   "outputs": [
    {
     "data": {
      "text/plain": [
       "<Axes: >"
      ]
     },
     "execution_count": 16,
     "metadata": {},
     "output_type": "execute_result"
    },
    {
     "data": {
      "image/png": "[encoded data removed]",
      "text/plain": [
       "<Figure size 640x480 with 2 Axes>"
      ]
     },
     "metadata": {},
     "output_type": "display_data"
    }
   ],
   "source": [
    "sns.heatmap(data = corr, annot=True,annot_kws={\"size\": 8},cmap=\"coolwarm\")"
   ]
  },
  {
   "cell_type": "code",
   "execution_count": 17,
   "id": "f1dec75a",
   "metadata": {
    "execution": {
     "iopub.execute_input": "2024-01-16T17:10:32.152773Z",
     "iopub.status.busy": "2024-01-16T17:10:32.152100Z",
     "iopub.status.idle": "2024-01-16T17:10:32.172715Z",
     "shell.execute_reply": "2024-01-16T17:10:32.171937Z"
    },
    "papermill": {
     "duration": 0.049928,
     "end_time": "2024-01-16T17:10:32.174993",
     "exception": false,
     "start_time": "2024-01-16T17:10:32.125065",
     "status": "completed"
    },
    "tags": []
   },
   "outputs": [
    {
     "data": {
      "text/html": [
       "<div>\n",
       "<style scoped>\n",
       "    .dataframe tbody tr th:only-of-type {\n",
       "        vertical-align: middle;\n",
       "    }\n",
       "\n",
       "    .dataframe tbody tr th {\n",
       "        vertical-align: top;\n",
       "    }\n",
       "\n",
       "    .dataframe thead th {\n",
       "        text-align: right;\n",
       "    }\n",
       "</style>\n",
       "<table border=\"1\" class=\"dataframe\">\n",
       "  <thead>\n",
       "    <tr style=\"text-align: right;\">\n",
       "      <th></th>\n",
       "      <th>Age</th>\n",
       "      <th>BusinessTravel</th>\n",
       "      <th>DailyRate</th>\n",
       "      <th>Department</th>\n",
       "      <th>DistanceFromHome</th>\n",
       "      <th>Education</th>\n",
       "      <th>EducationField</th>\n",
       "      <th>EnvironmentSatisfaction</th>\n",
       "      <th>Gender</th>\n",
       "      <th>HourlyRate</th>\n",
       "      <th>...</th>\n",
       "      <th>RelationshipSatisfaction</th>\n",
       "      <th>StockOptionLevel</th>\n",
       "      <th>TotalWorkingYears</th>\n",
       "      <th>TrainingTimesLastYear</th>\n",
       "      <th>WorkLifeBalance</th>\n",
       "      <th>YearsAtCompany</th>\n",
       "      <th>YearsInCurrentRole</th>\n",
       "      <th>YearsSinceLastPromotion</th>\n",
       "      <th>YearsWithCurrManager</th>\n",
       "      <th>Attrition</th>\n",
       "    </tr>\n",
       "  </thead>\n",
       "  <tbody>\n",
       "    <tr>\n",
       "      <th>0</th>\n",
       "      <td>36</td>\n",
       "      <td>Travel_Frequently</td>\n",
       "      <td>599</td>\n",
       "      <td>Research &amp; Development</td>\n",
       "      <td>24</td>\n",
       "      <td>3</td>\n",
       "      <td>Medical</td>\n",
       "      <td>4</td>\n",
       "      <td>Male</td>\n",
       "      <td>42</td>\n",
       "      <td>...</td>\n",
       "      <td>2</td>\n",
       "      <td>1</td>\n",
       "      <td>10</td>\n",
       "      <td>2</td>\n",
       "      <td>3</td>\n",
       "      <td>10</td>\n",
       "      <td>0</td>\n",
       "      <td>7</td>\n",
       "      <td>8</td>\n",
       "      <td>0</td>\n",
       "    </tr>\n",
       "    <tr>\n",
       "      <th>1</th>\n",
       "      <td>35</td>\n",
       "      <td>Travel_Rarely</td>\n",
       "      <td>921</td>\n",
       "      <td>Sales</td>\n",
       "      <td>8</td>\n",
       "      <td>3</td>\n",
       "      <td>Other</td>\n",
       "      <td>1</td>\n",
       "      <td>Male</td>\n",
       "      <td>46</td>\n",
       "      <td>...</td>\n",
       "      <td>4</td>\n",
       "      <td>1</td>\n",
       "      <td>4</td>\n",
       "      <td>3</td>\n",
       "      <td>3</td>\n",
       "      <td>4</td>\n",
       "      <td>2</td>\n",
       "      <td>0</td>\n",
       "      <td>3</td>\n",
       "      <td>0</td>\n",
       "    </tr>\n",
       "    <tr>\n",
       "      <th>2</th>\n",
       "      <td>32</td>\n",
       "      <td>Travel_Rarely</td>\n",
       "      <td>718</td>\n",
       "      <td>Sales</td>\n",
       "      <td>26</td>\n",
       "      <td>3</td>\n",
       "      <td>Marketing</td>\n",
       "      <td>3</td>\n",
       "      <td>Male</td>\n",
       "      <td>80</td>\n",
       "      <td>...</td>\n",
       "      <td>4</td>\n",
       "      <td>2</td>\n",
       "      <td>4</td>\n",
       "      <td>3</td>\n",
       "      <td>3</td>\n",
       "      <td>3</td>\n",
       "      <td>2</td>\n",
       "      <td>1</td>\n",
       "      <td>2</td>\n",
       "      <td>0</td>\n",
       "    </tr>\n",
       "    <tr>\n",
       "      <th>3</th>\n",
       "      <td>38</td>\n",
       "      <td>Travel_Rarely</td>\n",
       "      <td>1488</td>\n",
       "      <td>Research &amp; Development</td>\n",
       "      <td>2</td>\n",
       "      <td>3</td>\n",
       "      <td>Medical</td>\n",
       "      <td>3</td>\n",
       "      <td>Female</td>\n",
       "      <td>40</td>\n",
       "      <td>...</td>\n",
       "      <td>3</td>\n",
       "      <td>0</td>\n",
       "      <td>15</td>\n",
       "      <td>1</td>\n",
       "      <td>1</td>\n",
       "      <td>6</td>\n",
       "      <td>0</td>\n",
       "      <td>0</td>\n",
       "      <td>2</td>\n",
       "      <td>0</td>\n",
       "    </tr>\n",
       "    <tr>\n",
       "      <th>4</th>\n",
       "      <td>50</td>\n",
       "      <td>Travel_Rarely</td>\n",
       "      <td>1017</td>\n",
       "      <td>Research &amp; Development</td>\n",
       "      <td>5</td>\n",
       "      <td>4</td>\n",
       "      <td>Medical</td>\n",
       "      <td>2</td>\n",
       "      <td>Female</td>\n",
       "      <td>37</td>\n",
       "      <td>...</td>\n",
       "      <td>3</td>\n",
       "      <td>0</td>\n",
       "      <td>31</td>\n",
       "      <td>0</td>\n",
       "      <td>3</td>\n",
       "      <td>31</td>\n",
       "      <td>14</td>\n",
       "      <td>4</td>\n",
       "      <td>10</td>\n",
       "      <td>1</td>\n",
       "    </tr>\n",
       "  </tbody>\n",
       "</table>\n",
       "<p>5 rows × 31 columns</p>\n",
       "</div>"
      ],
      "text/plain": [
       "   Age     BusinessTravel  DailyRate              Department  \\\n",
       "0   36  Travel_Frequently        599  Research & Development   \n",
       "1   35      Travel_Rarely        921                   Sales   \n",
       "2   32      Travel_Rarely        718                   Sales   \n",
       "3   38      Travel_Rarely       1488  Research & Development   \n",
       "4   50      Travel_Rarely       1017  Research & Development   \n",
       "\n",
       "   DistanceFromHome  Education EducationField  EnvironmentSatisfaction  \\\n",
       "0                24          3        Medical                        4   \n",
       "1                 8          3          Other                        1   \n",
       "2                26          3      Marketing                        3   \n",
       "3                 2          3        Medical                        3   \n",
       "4                 5          4        Medical                        2   \n",
       "\n",
       "   Gender  HourlyRate  ...  RelationshipSatisfaction StockOptionLevel  \\\n",
       "0    Male          42  ...                         2                1   \n",
       "1    Male          46  ...                         4                1   \n",
       "2    Male          80  ...                         4                2   \n",
       "3  Female          40  ...                         3                0   \n",
       "4  Female          37  ...                         3                0   \n",
       "\n",
       "   TotalWorkingYears TrainingTimesLastYear  WorkLifeBalance  YearsAtCompany  \\\n",
       "0                 10                     2                3              10   \n",
       "1                  4                     3                3               4   \n",
       "2                  4                     3                3               3   \n",
       "3                 15                     1                1               6   \n",
       "4                 31                     0                3              31   \n",
       "\n",
       "   YearsInCurrentRole YearsSinceLastPromotion YearsWithCurrManager  Attrition  \n",
       "0                   0                       7                    8          0  \n",
       "1                   2                       0                    3          0  \n",
       "2                   2                       1                    2          0  \n",
       "3                   0                       0                    2          0  \n",
       "4                  14                       4                   10          1  \n",
       "\n",
       "[5 rows x 31 columns]"
      ]
     },
     "execution_count": 17,
     "metadata": {},
     "output_type": "execute_result"
    }
   ],
   "source": [
    "EA.head()"
   ]
  },
  {
   "cell_type": "code",
   "execution_count": 18,
   "id": "0e597075",
   "metadata": {
    "execution": {
     "iopub.execute_input": "2024-01-16T17:10:32.227096Z",
     "iopub.status.busy": "2024-01-16T17:10:32.226297Z",
     "iopub.status.idle": "2024-01-16T17:10:32.230583Z",
     "shell.execute_reply": "2024-01-16T17:10:32.229781Z"
    },
    "papermill": {
     "duration": 0.032933,
     "end_time": "2024-01-16T17:10:32.232881",
     "exception": false,
     "start_time": "2024-01-16T17:10:32.199948",
     "status": "completed"
    },
    "tags": []
   },
   "outputs": [],
   "source": [
    "import matplotlib.pyplot as plt\n",
    "import seaborn as sns"
   ]
  },
  {
   "cell_type": "code",
   "execution_count": 19,
   "id": "608f580a",
   "metadata": {
    "execution": {
     "iopub.execute_input": "2024-01-16T17:10:32.286238Z",
     "iopub.status.busy": "2024-01-16T17:10:32.285839Z",
     "iopub.status.idle": "2024-01-16T17:10:32.297168Z",
     "shell.execute_reply": "2024-01-16T17:10:32.296124Z"
    },
    "papermill": {
     "duration": 0.040216,
     "end_time": "2024-01-16T17:10:32.299863",
     "exception": false,
     "start_time": "2024-01-16T17:10:32.259647",
     "status": "completed"
    },
    "tags": []
   },
   "outputs": [],
   "source": [
    "EA1= EA.groupby('TotalWorkingYears')['Attrition'].agg(['mean', 'count']).reset_index()\n"
   ]
  },
  {
   "cell_type": "code",
   "execution_count": 20,
   "id": "47d4b696",
   "metadata": {
    "execution": {
     "iopub.execute_input": "2024-01-16T17:10:32.352007Z",
     "iopub.status.busy": "2024-01-16T17:10:32.351323Z",
     "iopub.status.idle": "2024-01-16T17:10:34.434823Z",
     "shell.execute_reply": "2024-01-16T17:10:34.433728Z"
    },
    "papermill": {
     "duration": 2.112236,
     "end_time": "2024-01-16T17:10:34.437728",
     "exception": false,
     "start_time": "2024-01-16T17:10:32.325492",
     "status": "completed"
    },
    "tags": []
   },
   "outputs": [
    {
     "data": {
      "image/png": "[encoded data removed]",
      "text/plain": [
       "<Figure size 1000x600 with 1 Axes>"
      ]
     },
     "metadata": {},
     "output_type": "display_data"
    }
   ],
   "source": [
    "# Create a bar chart\n",
    "plt.figure(figsize=(10, 6))\n",
    "ax = sns.barplot(x='TotalWorkingYears', y='Attrition', data=EA)\n",
    "for p in ax.patches:\n",
    "    ax.annotate(f'{p.get_height()*100:.2f}%\\n({int(p.get_height()*p.get_width())})',\n",
    "                (p.get_x() + p.get_width() / 2., p.get_height()),\n",
    "                ha='center', va='center', xytext=(0, 10), textcoords='offset points')\n",
    "plt.show()"
   ]
  },
  {
   "cell_type": "code",
   "execution_count": 21,
   "id": "c068bd19",
   "metadata": {
    "execution": {
     "iopub.execute_input": "2024-01-16T17:10:34.491448Z",
     "iopub.status.busy": "2024-01-16T17:10:34.491009Z",
     "iopub.status.idle": "2024-01-16T17:10:34.930281Z",
     "shell.execute_reply": "2024-01-16T17:10:34.929187Z"
    },
    "papermill": {
     "duration": 0.468993,
     "end_time": "2024-01-16T17:10:34.932556",
     "exception": false,
     "start_time": "2024-01-16T17:10:34.463563",
     "status": "completed"
    },
    "scrolled": true,
    "tags": []
   },
   "outputs": [
    {
     "data": {
      "image/png": "[encoded data removed]",
      "text/plain": [
       "<Figure size 1200x600 with 1 Axes>"
      ]
     },
     "metadata": {},
     "output_type": "display_data"
    }
   ],
   "source": [
    "import matplotlib.pyplot as plt\n",
    "import seaborn as sns\n",
    "\n",
    "\n",
    "department_turnover = EA.groupby('Department')['Attrition'].agg(['mean', 'count']).reset_index()\n",
    "\n",
    "\n",
    "department_turnover = department_turnover.sort_values(by='mean', ascending=False)\n",
    "\n",
    "plt.figure(figsize=(12, 6))\n",
    "ax = sns.barplot(x='Department', y='mean', data=department_turnover)\n",
    "\n",
    "# Annotate the bars with counts and percentages\n",
    "for p in ax.patches:\n",
    "    ax.annotate(f'{p.get_height()*100:.2f}%\\n({int(p.get_height()*p.get_width())})',\n",
    "                (p.get_x() + p.get_width() / 2., p.get_height()),\n",
    "                ha='center', va='center', xytext=(0, 10), textcoords='offset points')\n",
    "\n",
    "plt.title('Employee Turnover by Department')\n",
    "plt.xlabel('Department')\n",
    "plt.ylabel('Attrition')\n",
    "plt.show()"
   ]
  },
  {
   "cell_type": "code",
   "execution_count": 22,
   "id": "38c8866b",
   "metadata": {
    "execution": {
     "iopub.execute_input": "2024-01-16T17:10:34.987705Z",
     "iopub.status.busy": "2024-01-16T17:10:34.987231Z",
     "iopub.status.idle": "2024-01-16T17:10:35.008732Z",
     "shell.execute_reply": "2024-01-16T17:10:35.007641Z"
    },
    "papermill": {
     "duration": 0.052216,
     "end_time": "2024-01-16T17:10:35.011032",
     "exception": false,
     "start_time": "2024-01-16T17:10:34.958816",
     "status": "completed"
    },
    "tags": []
   },
   "outputs": [
    {
     "data": {
      "text/html": [
       "<div>\n",
       "<style scoped>\n",
       "    .dataframe tbody tr th:only-of-type {\n",
       "        vertical-align: middle;\n",
       "    }\n",
       "\n",
       "    .dataframe tbody tr th {\n",
       "        vertical-align: top;\n",
       "    }\n",
       "\n",
       "    .dataframe thead th {\n",
       "        text-align: right;\n",
       "    }\n",
       "</style>\n",
       "<table border=\"1\" class=\"dataframe\">\n",
       "  <thead>\n",
       "    <tr style=\"text-align: right;\">\n",
       "      <th></th>\n",
       "      <th>Age</th>\n",
       "      <th>BusinessTravel</th>\n",
       "      <th>DailyRate</th>\n",
       "      <th>Department</th>\n",
       "      <th>DistanceFromHome</th>\n",
       "      <th>Education</th>\n",
       "      <th>EducationField</th>\n",
       "      <th>EnvironmentSatisfaction</th>\n",
       "      <th>Gender</th>\n",
       "      <th>HourlyRate</th>\n",
       "      <th>...</th>\n",
       "      <th>RelationshipSatisfaction</th>\n",
       "      <th>StockOptionLevel</th>\n",
       "      <th>TotalWorkingYears</th>\n",
       "      <th>TrainingTimesLastYear</th>\n",
       "      <th>WorkLifeBalance</th>\n",
       "      <th>YearsAtCompany</th>\n",
       "      <th>YearsInCurrentRole</th>\n",
       "      <th>YearsSinceLastPromotion</th>\n",
       "      <th>YearsWithCurrManager</th>\n",
       "      <th>Attrition</th>\n",
       "    </tr>\n",
       "  </thead>\n",
       "  <tbody>\n",
       "    <tr>\n",
       "      <th>0</th>\n",
       "      <td>36</td>\n",
       "      <td>Travel_Frequently</td>\n",
       "      <td>599</td>\n",
       "      <td>Research &amp; Development</td>\n",
       "      <td>24</td>\n",
       "      <td>3</td>\n",
       "      <td>Medical</td>\n",
       "      <td>4</td>\n",
       "      <td>Male</td>\n",
       "      <td>42</td>\n",
       "      <td>...</td>\n",
       "      <td>2</td>\n",
       "      <td>1</td>\n",
       "      <td>10</td>\n",
       "      <td>2</td>\n",
       "      <td>3</td>\n",
       "      <td>10</td>\n",
       "      <td>0</td>\n",
       "      <td>7</td>\n",
       "      <td>8</td>\n",
       "      <td>0</td>\n",
       "    </tr>\n",
       "    <tr>\n",
       "      <th>1</th>\n",
       "      <td>35</td>\n",
       "      <td>Travel_Rarely</td>\n",
       "      <td>921</td>\n",
       "      <td>Sales</td>\n",
       "      <td>8</td>\n",
       "      <td>3</td>\n",
       "      <td>Other</td>\n",
       "      <td>1</td>\n",
       "      <td>Male</td>\n",
       "      <td>46</td>\n",
       "      <td>...</td>\n",
       "      <td>4</td>\n",
       "      <td>1</td>\n",
       "      <td>4</td>\n",
       "      <td>3</td>\n",
       "      <td>3</td>\n",
       "      <td>4</td>\n",
       "      <td>2</td>\n",
       "      <td>0</td>\n",
       "      <td>3</td>\n",
       "      <td>0</td>\n",
       "    </tr>\n",
       "    <tr>\n",
       "      <th>2</th>\n",
       "      <td>32</td>\n",
       "      <td>Travel_Rarely</td>\n",
       "      <td>718</td>\n",
       "      <td>Sales</td>\n",
       "      <td>26</td>\n",
       "      <td>3</td>\n",
       "      <td>Marketing</td>\n",
       "      <td>3</td>\n",
       "      <td>Male</td>\n",
       "      <td>80</td>\n",
       "      <td>...</td>\n",
       "      <td>4</td>\n",
       "      <td>2</td>\n",
       "      <td>4</td>\n",
       "      <td>3</td>\n",
       "      <td>3</td>\n",
       "      <td>3</td>\n",
       "      <td>2</td>\n",
       "      <td>1</td>\n",
       "      <td>2</td>\n",
       "      <td>0</td>\n",
       "    </tr>\n",
       "    <tr>\n",
       "      <th>3</th>\n",
       "      <td>38</td>\n",
       "      <td>Travel_Rarely</td>\n",
       "      <td>1488</td>\n",
       "      <td>Research &amp; Development</td>\n",
       "      <td>2</td>\n",
       "      <td>3</td>\n",
       "      <td>Medical</td>\n",
       "      <td>3</td>\n",
       "      <td>Female</td>\n",
       "      <td>40</td>\n",
       "      <td>...</td>\n",
       "      <td>3</td>\n",
       "      <td>0</td>\n",
       "      <td>15</td>\n",
       "      <td>1</td>\n",
       "      <td>1</td>\n",
       "      <td>6</td>\n",
       "      <td>0</td>\n",
       "      <td>0</td>\n",
       "      <td>2</td>\n",
       "      <td>0</td>\n",
       "    </tr>\n",
       "    <tr>\n",
       "      <th>4</th>\n",
       "      <td>50</td>\n",
       "      <td>Travel_Rarely</td>\n",
       "      <td>1017</td>\n",
       "      <td>Research &amp; Development</td>\n",
       "      <td>5</td>\n",
       "      <td>4</td>\n",
       "      <td>Medical</td>\n",
       "      <td>2</td>\n",
       "      <td>Female</td>\n",
       "      <td>37</td>\n",
       "      <td>...</td>\n",
       "      <td>3</td>\n",
       "      <td>0</td>\n",
       "      <td>31</td>\n",
       "      <td>0</td>\n",
       "      <td>3</td>\n",
       "      <td>31</td>\n",
       "      <td>14</td>\n",
       "      <td>4</td>\n",
       "      <td>10</td>\n",
       "      <td>1</td>\n",
       "    </tr>\n",
       "  </tbody>\n",
       "</table>\n",
       "<p>5 rows × 31 columns</p>\n",
       "</div>"
      ],
      "text/plain": [
       "   Age     BusinessTravel  DailyRate              Department  \\\n",
       "0   36  Travel_Frequently        599  Research & Development   \n",
       "1   35      Travel_Rarely        921                   Sales   \n",
       "2   32      Travel_Rarely        718                   Sales   \n",
       "3   38      Travel_Rarely       1488  Research & Development   \n",
       "4   50      Travel_Rarely       1017  Research & Development   \n",
       "\n",
       "   DistanceFromHome  Education EducationField  EnvironmentSatisfaction  \\\n",
       "0                24          3        Medical                        4   \n",
       "1                 8          3          Other                        1   \n",
       "2                26          3      Marketing                        3   \n",
       "3                 2          3        Medical                        3   \n",
       "4                 5          4        Medical                        2   \n",
       "\n",
       "   Gender  HourlyRate  ...  RelationshipSatisfaction StockOptionLevel  \\\n",
       "0    Male          42  ...                         2                1   \n",
       "1    Male          46  ...                         4                1   \n",
       "2    Male          80  ...                         4                2   \n",
       "3  Female          40  ...                         3                0   \n",
       "4  Female          37  ...                         3                0   \n",
       "\n",
       "   TotalWorkingYears TrainingTimesLastYear  WorkLifeBalance  YearsAtCompany  \\\n",
       "0                 10                     2                3              10   \n",
       "1                  4                     3                3               4   \n",
       "2                  4                     3                3               3   \n",
       "3                 15                     1                1               6   \n",
       "4                 31                     0                3              31   \n",
       "\n",
       "   YearsInCurrentRole YearsSinceLastPromotion YearsWithCurrManager  Attrition  \n",
       "0                   0                       7                    8          0  \n",
       "1                   2                       0                    3          0  \n",
       "2                   2                       1                    2          0  \n",
       "3                   0                       0                    2          0  \n",
       "4                  14                       4                   10          1  \n",
       "\n",
       "[5 rows x 31 columns]"
      ]
     },
     "execution_count": 22,
     "metadata": {},
     "output_type": "execute_result"
    }
   ],
   "source": [
    "EA.head()"
   ]
  },
  {
   "cell_type": "code",
   "execution_count": 23,
   "id": "96adfefa",
   "metadata": {
    "execution": {
     "iopub.execute_input": "2024-01-16T17:10:35.067130Z",
     "iopub.status.busy": "2024-01-16T17:10:35.066727Z",
     "iopub.status.idle": "2024-01-16T17:10:35.403408Z",
     "shell.execute_reply": "2024-01-16T17:10:35.402319Z"
    },
    "papermill": {
     "duration": 0.367931,
     "end_time": "2024-01-16T17:10:35.405854",
     "exception": false,
     "start_time": "2024-01-16T17:10:35.037923",
     "status": "completed"
    },
    "tags": []
   },
   "outputs": [
    {
     "data": {
      "image/png": "[encoded data removed]",
      "text/plain": [
       "<Figure size 1200x600 with 1 Axes>"
      ]
     },
     "metadata": {},
     "output_type": "display_data"
    }
   ],
   "source": [
    "import matplotlib.pyplot as plt\n",
    "import seaborn as sns\n",
    "\n",
    "\n",
    "department_turnover = EA.groupby('EducationField')['Attrition'].agg(['mean', 'count']).reset_index()\n",
    "\n",
    "\n",
    "department_turnover = department_turnover.sort_values(by='mean', ascending=False)\n",
    "\n",
    "plt.figure(figsize=(12, 6))\n",
    "ax = sns.barplot(x='EducationField', y='mean', data=department_turnover)\n",
    "\n",
    "# Annotate the bars with counts and percentages\n",
    "for p in ax.patches:\n",
    "    ax.annotate(f'{p.get_height()*100:.2f}%\\n({int(p.get_height()*p.get_width())})',\n",
    "                (p.get_x() + p.get_width() / 2., p.get_height()),\n",
    "                ha='center', va='center', xytext=(0, 10), textcoords='offset points')\n",
    "\n",
    "plt.title('Employee Turnover by EducationField')\n",
    "plt.xlabel('EducationField')\n",
    "plt.ylabel('Attrition')\n",
    "plt.show()"
   ]
  },
  {
   "cell_type": "code",
   "execution_count": 24,
   "id": "c6cc19f9",
   "metadata": {
    "execution": {
     "iopub.execute_input": "2024-01-16T17:10:35.465226Z",
     "iopub.status.busy": "2024-01-16T17:10:35.464787Z",
     "iopub.status.idle": "2024-01-16T17:10:35.758517Z",
     "shell.execute_reply": "2024-01-16T17:10:35.757422Z"
    },
    "papermill": {
     "duration": 0.325985,
     "end_time": "2024-01-16T17:10:35.760958",
     "exception": false,
     "start_time": "2024-01-16T17:10:35.434973",
     "status": "completed"
    },
    "tags": []
   },
   "outputs": [
    {
     "data": {
      "image/png": "[encoded data removed]",
      "text/plain": [
       "<Figure size 1200x600 with 1 Axes>"
      ]
     },
     "metadata": {},
     "output_type": "display_data"
    }
   ],
   "source": [
    "import matplotlib.pyplot as plt\n",
    "import seaborn as sns\n",
    "\n",
    "\n",
    "department_turnover = EA.groupby('Gender')['Attrition'].agg(['mean', 'count']).reset_index()\n",
    "\n",
    "\n",
    "department_turnover = department_turnover.sort_values(by='mean', ascending=False)\n",
    "\n",
    "plt.figure(figsize=(12, 6))\n",
    "ax = sns.barplot(x='Gender', y='mean', data=department_turnover)\n",
    "\n",
    "# Annotate the bars with counts and percentages\n",
    "for p in ax.patches:\n",
    "    ax.annotate(f'{p.get_height()*100:.2f}%\\n({int(p.get_height()*p.get_width())})',\n",
    "                (p.get_x() + p.get_width() / 2., p.get_height()),\n",
    "                ha='center', va='center', xytext=(0, 10), textcoords='offset points')\n",
    "\n",
    "plt.title('Employee Turnover by Gender')\n",
    "plt.xlabel('Gender')\n",
    "plt.ylabel('Attrition')\n",
    "plt.show()"
   ]
  },
  {
   "cell_type": "code",
   "execution_count": 25,
   "id": "93e82bce",
   "metadata": {
    "execution": {
     "iopub.execute_input": "2024-01-16T17:10:35.819607Z",
     "iopub.status.busy": "2024-01-16T17:10:35.819185Z",
     "iopub.status.idle": "2024-01-16T17:10:35.840984Z",
     "shell.execute_reply": "2024-01-16T17:10:35.839857Z"
    },
    "papermill": {
     "duration": 0.054154,
     "end_time": "2024-01-16T17:10:35.843325",
     "exception": false,
     "start_time": "2024-01-16T17:10:35.789171",
     "status": "completed"
    },
    "tags": []
   },
   "outputs": [
    {
     "data": {
      "text/html": [
       "<div>\n",
       "<style scoped>\n",
       "    .dataframe tbody tr th:only-of-type {\n",
       "        vertical-align: middle;\n",
       "    }\n",
       "\n",
       "    .dataframe tbody tr th {\n",
       "        vertical-align: top;\n",
       "    }\n",
       "\n",
       "    .dataframe thead th {\n",
       "        text-align: right;\n",
       "    }\n",
       "</style>\n",
       "<table border=\"1\" class=\"dataframe\">\n",
       "  <thead>\n",
       "    <tr style=\"text-align: right;\">\n",
       "      <th></th>\n",
       "      <th>Age</th>\n",
       "      <th>BusinessTravel</th>\n",
       "      <th>DailyRate</th>\n",
       "      <th>Department</th>\n",
       "      <th>DistanceFromHome</th>\n",
       "      <th>Education</th>\n",
       "      <th>EducationField</th>\n",
       "      <th>EnvironmentSatisfaction</th>\n",
       "      <th>Gender</th>\n",
       "      <th>HourlyRate</th>\n",
       "      <th>...</th>\n",
       "      <th>RelationshipSatisfaction</th>\n",
       "      <th>StockOptionLevel</th>\n",
       "      <th>TotalWorkingYears</th>\n",
       "      <th>TrainingTimesLastYear</th>\n",
       "      <th>WorkLifeBalance</th>\n",
       "      <th>YearsAtCompany</th>\n",
       "      <th>YearsInCurrentRole</th>\n",
       "      <th>YearsSinceLastPromotion</th>\n",
       "      <th>YearsWithCurrManager</th>\n",
       "      <th>Attrition</th>\n",
       "    </tr>\n",
       "  </thead>\n",
       "  <tbody>\n",
       "    <tr>\n",
       "      <th>0</th>\n",
       "      <td>36</td>\n",
       "      <td>Travel_Frequently</td>\n",
       "      <td>599</td>\n",
       "      <td>Research &amp; Development</td>\n",
       "      <td>24</td>\n",
       "      <td>3</td>\n",
       "      <td>Medical</td>\n",
       "      <td>4</td>\n",
       "      <td>Male</td>\n",
       "      <td>42</td>\n",
       "      <td>...</td>\n",
       "      <td>2</td>\n",
       "      <td>1</td>\n",
       "      <td>10</td>\n",
       "      <td>2</td>\n",
       "      <td>3</td>\n",
       "      <td>10</td>\n",
       "      <td>0</td>\n",
       "      <td>7</td>\n",
       "      <td>8</td>\n",
       "      <td>0</td>\n",
       "    </tr>\n",
       "    <tr>\n",
       "      <th>1</th>\n",
       "      <td>35</td>\n",
       "      <td>Travel_Rarely</td>\n",
       "      <td>921</td>\n",
       "      <td>Sales</td>\n",
       "      <td>8</td>\n",
       "      <td>3</td>\n",
       "      <td>Other</td>\n",
       "      <td>1</td>\n",
       "      <td>Male</td>\n",
       "      <td>46</td>\n",
       "      <td>...</td>\n",
       "      <td>4</td>\n",
       "      <td>1</td>\n",
       "      <td>4</td>\n",
       "      <td>3</td>\n",
       "      <td>3</td>\n",
       "      <td>4</td>\n",
       "      <td>2</td>\n",
       "      <td>0</td>\n",
       "      <td>3</td>\n",
       "      <td>0</td>\n",
       "    </tr>\n",
       "    <tr>\n",
       "      <th>2</th>\n",
       "      <td>32</td>\n",
       "      <td>Travel_Rarely</td>\n",
       "      <td>718</td>\n",
       "      <td>Sales</td>\n",
       "      <td>26</td>\n",
       "      <td>3</td>\n",
       "      <td>Marketing</td>\n",
       "      <td>3</td>\n",
       "      <td>Male</td>\n",
       "      <td>80</td>\n",
       "      <td>...</td>\n",
       "      <td>4</td>\n",
       "      <td>2</td>\n",
       "      <td>4</td>\n",
       "      <td>3</td>\n",
       "      <td>3</td>\n",
       "      <td>3</td>\n",
       "      <td>2</td>\n",
       "      <td>1</td>\n",
       "      <td>2</td>\n",
       "      <td>0</td>\n",
       "    </tr>\n",
       "    <tr>\n",
       "      <th>3</th>\n",
       "      <td>38</td>\n",
       "      <td>Travel_Rarely</td>\n",
       "      <td>1488</td>\n",
       "      <td>Research &amp; Development</td>\n",
       "      <td>2</td>\n",
       "      <td>3</td>\n",
       "      <td>Medical</td>\n",
       "      <td>3</td>\n",
       "      <td>Female</td>\n",
       "      <td>40</td>\n",
       "      <td>...</td>\n",
       "      <td>3</td>\n",
       "      <td>0</td>\n",
       "      <td>15</td>\n",
       "      <td>1</td>\n",
       "      <td>1</td>\n",
       "      <td>6</td>\n",
       "      <td>0</td>\n",
       "      <td>0</td>\n",
       "      <td>2</td>\n",
       "      <td>0</td>\n",
       "    </tr>\n",
       "    <tr>\n",
       "      <th>4</th>\n",
       "      <td>50</td>\n",
       "      <td>Travel_Rarely</td>\n",
       "      <td>1017</td>\n",
       "      <td>Research &amp; Development</td>\n",
       "      <td>5</td>\n",
       "      <td>4</td>\n",
       "      <td>Medical</td>\n",
       "      <td>2</td>\n",
       "      <td>Female</td>\n",
       "      <td>37</td>\n",
       "      <td>...</td>\n",
       "      <td>3</td>\n",
       "      <td>0</td>\n",
       "      <td>31</td>\n",
       "      <td>0</td>\n",
       "      <td>3</td>\n",
       "      <td>31</td>\n",
       "      <td>14</td>\n",
       "      <td>4</td>\n",
       "      <td>10</td>\n",
       "      <td>1</td>\n",
       "    </tr>\n",
       "  </tbody>\n",
       "</table>\n",
       "<p>5 rows × 31 columns</p>\n",
       "</div>"
      ],
      "text/plain": [
       "   Age     BusinessTravel  DailyRate              Department  \\\n",
       "0   36  Travel_Frequently        599  Research & Development   \n",
       "1   35      Travel_Rarely        921                   Sales   \n",
       "2   32      Travel_Rarely        718                   Sales   \n",
       "3   38      Travel_Rarely       1488  Research & Development   \n",
       "4   50      Travel_Rarely       1017  Research & Development   \n",
       "\n",
       "   DistanceFromHome  Education EducationField  EnvironmentSatisfaction  \\\n",
       "0                24          3        Medical                        4   \n",
       "1                 8          3          Other                        1   \n",
       "2                26          3      Marketing                        3   \n",
       "3                 2          3        Medical                        3   \n",
       "4                 5          4        Medical                        2   \n",
       "\n",
       "   Gender  HourlyRate  ...  RelationshipSatisfaction StockOptionLevel  \\\n",
       "0    Male          42  ...                         2                1   \n",
       "1    Male          46  ...                         4                1   \n",
       "2    Male          80  ...                         4                2   \n",
       "3  Female          40  ...                         3                0   \n",
       "4  Female          37  ...                         3                0   \n",
       "\n",
       "   TotalWorkingYears TrainingTimesLastYear  WorkLifeBalance  YearsAtCompany  \\\n",
       "0                 10                     2                3              10   \n",
       "1                  4                     3                3               4   \n",
       "2                  4                     3                3               3   \n",
       "3                 15                     1                1               6   \n",
       "4                 31                     0                3              31   \n",
       "\n",
       "   YearsInCurrentRole YearsSinceLastPromotion YearsWithCurrManager  Attrition  \n",
       "0                   0                       7                    8          0  \n",
       "1                   2                       0                    3          0  \n",
       "2                   2                       1                    2          0  \n",
       "3                   0                       0                    2          0  \n",
       "4                  14                       4                   10          1  \n",
       "\n",
       "[5 rows x 31 columns]"
      ]
     },
     "execution_count": 25,
     "metadata": {},
     "output_type": "execute_result"
    }
   ],
   "source": [
    "EA.head()"
   ]
  },
  {
   "cell_type": "code",
   "execution_count": 26,
   "id": "830194bb",
   "metadata": {
    "execution": {
     "iopub.execute_input": "2024-01-16T17:10:35.904579Z",
     "iopub.status.busy": "2024-01-16T17:10:35.903755Z",
     "iopub.status.idle": "2024-01-16T17:10:35.910206Z",
     "shell.execute_reply": "2024-01-16T17:10:35.909399Z"
    },
    "papermill": {
     "duration": 0.039856,
     "end_time": "2024-01-16T17:10:35.912602",
     "exception": false,
     "start_time": "2024-01-16T17:10:35.872746",
     "status": "completed"
    },
    "tags": []
   },
   "outputs": [],
   "source": [
    "# Create X ( all the training features) and y ( labels) dataframes\n",
    "X=EA.drop(\"Attrition\",axis=1)"
   ]
  },
  {
   "cell_type": "code",
   "execution_count": 27,
   "id": "7b5d65ec",
   "metadata": {
    "execution": {
     "iopub.execute_input": "2024-01-16T17:10:35.972220Z",
     "iopub.status.busy": "2024-01-16T17:10:35.971398Z",
     "iopub.status.idle": "2024-01-16T17:10:36.000159Z",
     "shell.execute_reply": "2024-01-16T17:10:35.999320Z"
    },
    "papermill": {
     "duration": 0.061255,
     "end_time": "2024-01-16T17:10:36.002361",
     "exception": false,
     "start_time": "2024-01-16T17:10:35.941106",
     "status": "completed"
    },
    "tags": []
   },
   "outputs": [
    {
     "data": {
      "text/html": [
       "<div>\n",
       "<style scoped>\n",
       "    .dataframe tbody tr th:only-of-type {\n",
       "        vertical-align: middle;\n",
       "    }\n",
       "\n",
       "    .dataframe tbody tr th {\n",
       "        vertical-align: top;\n",
       "    }\n",
       "\n",
       "    .dataframe thead th {\n",
       "        text-align: right;\n",
       "    }\n",
       "</style>\n",
       "<table border=\"1\" class=\"dataframe\">\n",
       "  <thead>\n",
       "    <tr style=\"text-align: right;\">\n",
       "      <th></th>\n",
       "      <th>Age</th>\n",
       "      <th>BusinessTravel</th>\n",
       "      <th>DailyRate</th>\n",
       "      <th>Department</th>\n",
       "      <th>DistanceFromHome</th>\n",
       "      <th>Education</th>\n",
       "      <th>EducationField</th>\n",
       "      <th>EnvironmentSatisfaction</th>\n",
       "      <th>Gender</th>\n",
       "      <th>HourlyRate</th>\n",
       "      <th>...</th>\n",
       "      <th>PerformanceRating</th>\n",
       "      <th>RelationshipSatisfaction</th>\n",
       "      <th>StockOptionLevel</th>\n",
       "      <th>TotalWorkingYears</th>\n",
       "      <th>TrainingTimesLastYear</th>\n",
       "      <th>WorkLifeBalance</th>\n",
       "      <th>YearsAtCompany</th>\n",
       "      <th>YearsInCurrentRole</th>\n",
       "      <th>YearsSinceLastPromotion</th>\n",
       "      <th>YearsWithCurrManager</th>\n",
       "    </tr>\n",
       "  </thead>\n",
       "  <tbody>\n",
       "    <tr>\n",
       "      <th>0</th>\n",
       "      <td>36</td>\n",
       "      <td>Travel_Frequently</td>\n",
       "      <td>599</td>\n",
       "      <td>Research &amp; Development</td>\n",
       "      <td>24</td>\n",
       "      <td>3</td>\n",
       "      <td>Medical</td>\n",
       "      <td>4</td>\n",
       "      <td>Male</td>\n",
       "      <td>42</td>\n",
       "      <td>...</td>\n",
       "      <td>3</td>\n",
       "      <td>2</td>\n",
       "      <td>1</td>\n",
       "      <td>10</td>\n",
       "      <td>2</td>\n",
       "      <td>3</td>\n",
       "      <td>10</td>\n",
       "      <td>0</td>\n",
       "      <td>7</td>\n",
       "      <td>8</td>\n",
       "    </tr>\n",
       "    <tr>\n",
       "      <th>1</th>\n",
       "      <td>35</td>\n",
       "      <td>Travel_Rarely</td>\n",
       "      <td>921</td>\n",
       "      <td>Sales</td>\n",
       "      <td>8</td>\n",
       "      <td>3</td>\n",
       "      <td>Other</td>\n",
       "      <td>1</td>\n",
       "      <td>Male</td>\n",
       "      <td>46</td>\n",
       "      <td>...</td>\n",
       "      <td>3</td>\n",
       "      <td>4</td>\n",
       "      <td>1</td>\n",
       "      <td>4</td>\n",
       "      <td>3</td>\n",
       "      <td>3</td>\n",
       "      <td>4</td>\n",
       "      <td>2</td>\n",
       "      <td>0</td>\n",
       "      <td>3</td>\n",
       "    </tr>\n",
       "    <tr>\n",
       "      <th>2</th>\n",
       "      <td>32</td>\n",
       "      <td>Travel_Rarely</td>\n",
       "      <td>718</td>\n",
       "      <td>Sales</td>\n",
       "      <td>26</td>\n",
       "      <td>3</td>\n",
       "      <td>Marketing</td>\n",
       "      <td>3</td>\n",
       "      <td>Male</td>\n",
       "      <td>80</td>\n",
       "      <td>...</td>\n",
       "      <td>3</td>\n",
       "      <td>4</td>\n",
       "      <td>2</td>\n",
       "      <td>4</td>\n",
       "      <td>3</td>\n",
       "      <td>3</td>\n",
       "      <td>3</td>\n",
       "      <td>2</td>\n",
       "      <td>1</td>\n",
       "      <td>2</td>\n",
       "    </tr>\n",
       "    <tr>\n",
       "      <th>3</th>\n",
       "      <td>38</td>\n",
       "      <td>Travel_Rarely</td>\n",
       "      <td>1488</td>\n",
       "      <td>Research &amp; Development</td>\n",
       "      <td>2</td>\n",
       "      <td>3</td>\n",
       "      <td>Medical</td>\n",
       "      <td>3</td>\n",
       "      <td>Female</td>\n",
       "      <td>40</td>\n",
       "      <td>...</td>\n",
       "      <td>3</td>\n",
       "      <td>3</td>\n",
       "      <td>0</td>\n",
       "      <td>15</td>\n",
       "      <td>1</td>\n",
       "      <td>1</td>\n",
       "      <td>6</td>\n",
       "      <td>0</td>\n",
       "      <td>0</td>\n",
       "      <td>2</td>\n",
       "    </tr>\n",
       "    <tr>\n",
       "      <th>4</th>\n",
       "      <td>50</td>\n",
       "      <td>Travel_Rarely</td>\n",
       "      <td>1017</td>\n",
       "      <td>Research &amp; Development</td>\n",
       "      <td>5</td>\n",
       "      <td>4</td>\n",
       "      <td>Medical</td>\n",
       "      <td>2</td>\n",
       "      <td>Female</td>\n",
       "      <td>37</td>\n",
       "      <td>...</td>\n",
       "      <td>3</td>\n",
       "      <td>3</td>\n",
       "      <td>0</td>\n",
       "      <td>31</td>\n",
       "      <td>0</td>\n",
       "      <td>3</td>\n",
       "      <td>31</td>\n",
       "      <td>14</td>\n",
       "      <td>4</td>\n",
       "      <td>10</td>\n",
       "    </tr>\n",
       "    <tr>\n",
       "      <th>...</th>\n",
       "      <td>...</td>\n",
       "      <td>...</td>\n",
       "      <td>...</td>\n",
       "      <td>...</td>\n",
       "      <td>...</td>\n",
       "      <td>...</td>\n",
       "      <td>...</td>\n",
       "      <td>...</td>\n",
       "      <td>...</td>\n",
       "      <td>...</td>\n",
       "      <td>...</td>\n",
       "      <td>...</td>\n",
       "      <td>...</td>\n",
       "      <td>...</td>\n",
       "      <td>...</td>\n",
       "      <td>...</td>\n",
       "      <td>...</td>\n",
       "      <td>...</td>\n",
       "      <td>...</td>\n",
       "      <td>...</td>\n",
       "      <td>...</td>\n",
       "    </tr>\n",
       "    <tr>\n",
       "      <th>1672</th>\n",
       "      <td>30</td>\n",
       "      <td>Travel_Rarely</td>\n",
       "      <td>945</td>\n",
       "      <td>Sales</td>\n",
       "      <td>1</td>\n",
       "      <td>3</td>\n",
       "      <td>Life Sciences</td>\n",
       "      <td>4</td>\n",
       "      <td>Female</td>\n",
       "      <td>73</td>\n",
       "      <td>...</td>\n",
       "      <td>3</td>\n",
       "      <td>2</td>\n",
       "      <td>0</td>\n",
       "      <td>10</td>\n",
       "      <td>2</td>\n",
       "      <td>4</td>\n",
       "      <td>10</td>\n",
       "      <td>0</td>\n",
       "      <td>0</td>\n",
       "      <td>8</td>\n",
       "    </tr>\n",
       "    <tr>\n",
       "      <th>1673</th>\n",
       "      <td>32</td>\n",
       "      <td>Travel_Rarely</td>\n",
       "      <td>1303</td>\n",
       "      <td>Research &amp; Development</td>\n",
       "      <td>2</td>\n",
       "      <td>3</td>\n",
       "      <td>Life Sciences</td>\n",
       "      <td>1</td>\n",
       "      <td>Male</td>\n",
       "      <td>48</td>\n",
       "      <td>...</td>\n",
       "      <td>3</td>\n",
       "      <td>4</td>\n",
       "      <td>1</td>\n",
       "      <td>10</td>\n",
       "      <td>3</td>\n",
       "      <td>4</td>\n",
       "      <td>4</td>\n",
       "      <td>2</td>\n",
       "      <td>1</td>\n",
       "      <td>3</td>\n",
       "    </tr>\n",
       "    <tr>\n",
       "      <th>1674</th>\n",
       "      <td>29</td>\n",
       "      <td>Travel_Frequently</td>\n",
       "      <td>1184</td>\n",
       "      <td>Human Resources</td>\n",
       "      <td>24</td>\n",
       "      <td>3</td>\n",
       "      <td>Human Resources</td>\n",
       "      <td>2</td>\n",
       "      <td>Male</td>\n",
       "      <td>36</td>\n",
       "      <td>...</td>\n",
       "      <td>3</td>\n",
       "      <td>3</td>\n",
       "      <td>0</td>\n",
       "      <td>1</td>\n",
       "      <td>2</td>\n",
       "      <td>3</td>\n",
       "      <td>1</td>\n",
       "      <td>0</td>\n",
       "      <td>0</td>\n",
       "      <td>0</td>\n",
       "    </tr>\n",
       "    <tr>\n",
       "      <th>1675</th>\n",
       "      <td>36</td>\n",
       "      <td>Travel_Rarely</td>\n",
       "      <td>441</td>\n",
       "      <td>Sales</td>\n",
       "      <td>9</td>\n",
       "      <td>2</td>\n",
       "      <td>Marketing</td>\n",
       "      <td>2</td>\n",
       "      <td>Male</td>\n",
       "      <td>48</td>\n",
       "      <td>...</td>\n",
       "      <td>4</td>\n",
       "      <td>3</td>\n",
       "      <td>2</td>\n",
       "      <td>10</td>\n",
       "      <td>3</td>\n",
       "      <td>2</td>\n",
       "      <td>10</td>\n",
       "      <td>3</td>\n",
       "      <td>0</td>\n",
       "      <td>8</td>\n",
       "    </tr>\n",
       "    <tr>\n",
       "      <th>1676</th>\n",
       "      <td>36</td>\n",
       "      <td>Travel_Rarely</td>\n",
       "      <td>1141</td>\n",
       "      <td>Research &amp; Development</td>\n",
       "      <td>20</td>\n",
       "      <td>3</td>\n",
       "      <td>Life Sciences</td>\n",
       "      <td>3</td>\n",
       "      <td>Female</td>\n",
       "      <td>35</td>\n",
       "      <td>...</td>\n",
       "      <td>3</td>\n",
       "      <td>4</td>\n",
       "      <td>0</td>\n",
       "      <td>10</td>\n",
       "      <td>3</td>\n",
       "      <td>2</td>\n",
       "      <td>8</td>\n",
       "      <td>2</td>\n",
       "      <td>7</td>\n",
       "      <td>3</td>\n",
       "    </tr>\n",
       "  </tbody>\n",
       "</table>\n",
       "<p>1677 rows × 30 columns</p>\n",
       "</div>"
      ],
      "text/plain": [
       "      Age     BusinessTravel  DailyRate              Department  \\\n",
       "0      36  Travel_Frequently        599  Research & Development   \n",
       "1      35      Travel_Rarely        921                   Sales   \n",
       "2      32      Travel_Rarely        718                   Sales   \n",
       "3      38      Travel_Rarely       1488  Research & Development   \n",
       "4      50      Travel_Rarely       1017  Research & Development   \n",
       "...   ...                ...        ...                     ...   \n",
       "1672   30      Travel_Rarely        945                   Sales   \n",
       "1673   32      Travel_Rarely       1303  Research & Development   \n",
       "1674   29  Travel_Frequently       1184         Human Resources   \n",
       "1675   36      Travel_Rarely        441                   Sales   \n",
       "1676   36      Travel_Rarely       1141  Research & Development   \n",
       "\n",
       "      DistanceFromHome  Education   EducationField  EnvironmentSatisfaction  \\\n",
       "0                   24          3          Medical                        4   \n",
       "1                    8          3            Other                        1   \n",
       "2                   26          3        Marketing                        3   \n",
       "3                    2          3          Medical                        3   \n",
       "4                    5          4          Medical                        2   \n",
       "...                ...        ...              ...                      ...   \n",
       "1672                 1          3    Life Sciences                        4   \n",
       "1673                 2          3    Life Sciences                        1   \n",
       "1674                24          3  Human Resources                        2   \n",
       "1675                 9          2        Marketing                        2   \n",
       "1676                20          3    Life Sciences                        3   \n",
       "\n",
       "      Gender  HourlyRate  ...  PerformanceRating RelationshipSatisfaction  \\\n",
       "0       Male          42  ...                  3                        2   \n",
       "1       Male          46  ...                  3                        4   \n",
       "2       Male          80  ...                  3                        4   \n",
       "3     Female          40  ...                  3                        3   \n",
       "4     Female          37  ...                  3                        3   \n",
       "...      ...         ...  ...                ...                      ...   \n",
       "1672  Female          73  ...                  3                        2   \n",
       "1673    Male          48  ...                  3                        4   \n",
       "1674    Male          36  ...                  3                        3   \n",
       "1675    Male          48  ...                  4                        3   \n",
       "1676  Female          35  ...                  3                        4   \n",
       "\n",
       "      StockOptionLevel TotalWorkingYears  TrainingTimesLastYear  \\\n",
       "0                    1                10                      2   \n",
       "1                    1                 4                      3   \n",
       "2                    2                 4                      3   \n",
       "3                    0                15                      1   \n",
       "4                    0                31                      0   \n",
       "...                ...               ...                    ...   \n",
       "1672                 0                10                      2   \n",
       "1673                 1                10                      3   \n",
       "1674                 0                 1                      2   \n",
       "1675                 2                10                      3   \n",
       "1676                 0                10                      3   \n",
       "\n",
       "      WorkLifeBalance  YearsAtCompany YearsInCurrentRole  \\\n",
       "0                   3              10                  0   \n",
       "1                   3               4                  2   \n",
       "2                   3               3                  2   \n",
       "3                   1               6                  0   \n",
       "4                   3              31                 14   \n",
       "...               ...             ...                ...   \n",
       "1672                4              10                  0   \n",
       "1673                4               4                  2   \n",
       "1674                3               1                  0   \n",
       "1675                2              10                  3   \n",
       "1676                2               8                  2   \n",
       "\n",
       "     YearsSinceLastPromotion  YearsWithCurrManager  \n",
       "0                          7                     8  \n",
       "1                          0                     3  \n",
       "2                          1                     2  \n",
       "3                          0                     2  \n",
       "4                          4                    10  \n",
       "...                      ...                   ...  \n",
       "1672                       0                     8  \n",
       "1673                       1                     3  \n",
       "1674                       0                     0  \n",
       "1675                       0                     8  \n",
       "1676                       7                     3  \n",
       "\n",
       "[1677 rows x 30 columns]"
      ]
     },
     "execution_count": 27,
     "metadata": {},
     "output_type": "execute_result"
    }
   ],
   "source": [
    "X"
   ]
  },
  {
   "cell_type": "code",
   "execution_count": 28,
   "id": "68c53487",
   "metadata": {
    "execution": {
     "iopub.execute_input": "2024-01-16T17:10:36.062703Z",
     "iopub.status.busy": "2024-01-16T17:10:36.061497Z",
     "iopub.status.idle": "2024-01-16T17:10:36.066972Z",
     "shell.execute_reply": "2024-01-16T17:10:36.065904Z"
    },
    "papermill": {
     "duration": 0.037836,
     "end_time": "2024-01-16T17:10:36.069207",
     "exception": false,
     "start_time": "2024-01-16T17:10:36.031371",
     "status": "completed"
    },
    "tags": []
   },
   "outputs": [],
   "source": [
    "y = EA[\"Attrition\"]  # Target column "
   ]
  },
  {
   "cell_type": "code",
   "execution_count": 29,
   "id": "b6fa12e1",
   "metadata": {
    "execution": {
     "iopub.execute_input": "2024-01-16T17:10:36.129213Z",
     "iopub.status.busy": "2024-01-16T17:10:36.128829Z",
     "iopub.status.idle": "2024-01-16T17:10:36.136982Z",
     "shell.execute_reply": "2024-01-16T17:10:36.135851Z"
    },
    "papermill": {
     "duration": 0.04118,
     "end_time": "2024-01-16T17:10:36.139207",
     "exception": false,
     "start_time": "2024-01-16T17:10:36.098027",
     "status": "completed"
    },
    "tags": []
   },
   "outputs": [
    {
     "data": {
      "text/plain": [
       "0       0\n",
       "1       0\n",
       "2       0\n",
       "3       0\n",
       "4       1\n",
       "       ..\n",
       "1672    0\n",
       "1673    0\n",
       "1674    1\n",
       "1675    0\n",
       "1676    0\n",
       "Name: Attrition, Length: 1677, dtype: int64"
      ]
     },
     "execution_count": 29,
     "metadata": {},
     "output_type": "execute_result"
    }
   ],
   "source": [
    "y"
   ]
  },
  {
   "cell_type": "code",
   "execution_count": 30,
   "id": "33f83b3e",
   "metadata": {
    "execution": {
     "iopub.execute_input": "2024-01-16T17:10:36.201011Z",
     "iopub.status.busy": "2024-01-16T17:10:36.199819Z",
     "iopub.status.idle": "2024-01-16T17:10:36.214157Z",
     "shell.execute_reply": "2024-01-16T17:10:36.213311Z"
    },
    "papermill": {
     "duration": 0.048328,
     "end_time": "2024-01-16T17:10:36.216645",
     "exception": false,
     "start_time": "2024-01-16T17:10:36.168317",
     "status": "completed"
    },
    "tags": []
   },
   "outputs": [],
   "source": [
    "# In the X feature set, there are some categorical column, let's translate them into their dummies \n",
    "X = pd.get_dummies(X)"
   ]
  },
  {
   "cell_type": "code",
   "execution_count": 31,
   "id": "26e95557",
   "metadata": {
    "execution": {
     "iopub.execute_input": "2024-01-16T17:10:36.277141Z",
     "iopub.status.busy": "2024-01-16T17:10:36.276309Z",
     "iopub.status.idle": "2024-01-16T17:10:36.298518Z",
     "shell.execute_reply": "2024-01-16T17:10:36.297423Z"
    },
    "papermill": {
     "duration": 0.055223,
     "end_time": "2024-01-16T17:10:36.301001",
     "exception": false,
     "start_time": "2024-01-16T17:10:36.245778",
     "status": "completed"
    },
    "tags": []
   },
   "outputs": [
    {
     "data": {
      "text/html": [
       "<div>\n",
       "<style scoped>\n",
       "    .dataframe tbody tr th:only-of-type {\n",
       "        vertical-align: middle;\n",
       "    }\n",
       "\n",
       "    .dataframe tbody tr th {\n",
       "        vertical-align: top;\n",
       "    }\n",
       "\n",
       "    .dataframe thead th {\n",
       "        text-align: right;\n",
       "    }\n",
       "</style>\n",
       "<table border=\"1\" class=\"dataframe\">\n",
       "  <thead>\n",
       "    <tr style=\"text-align: right;\">\n",
       "      <th></th>\n",
       "      <th>Age</th>\n",
       "      <th>DailyRate</th>\n",
       "      <th>DistanceFromHome</th>\n",
       "      <th>Education</th>\n",
       "      <th>EnvironmentSatisfaction</th>\n",
       "      <th>HourlyRate</th>\n",
       "      <th>JobInvolvement</th>\n",
       "      <th>JobSatisfaction</th>\n",
       "      <th>MonthlyIncome</th>\n",
       "      <th>MonthlyRate</th>\n",
       "      <th>...</th>\n",
       "      <th>JobRole_Research Director</th>\n",
       "      <th>JobRole_Research Scientist</th>\n",
       "      <th>JobRole_Sales Executive</th>\n",
       "      <th>JobRole_Sales Representative</th>\n",
       "      <th>MaritalStatus_Divorced</th>\n",
       "      <th>MaritalStatus_Married</th>\n",
       "      <th>MaritalStatus_Single</th>\n",
       "      <th>Over18_Y</th>\n",
       "      <th>OverTime_No</th>\n",
       "      <th>OverTime_Yes</th>\n",
       "    </tr>\n",
       "  </thead>\n",
       "  <tbody>\n",
       "    <tr>\n",
       "      <th>0</th>\n",
       "      <td>36</td>\n",
       "      <td>599</td>\n",
       "      <td>24</td>\n",
       "      <td>3</td>\n",
       "      <td>4</td>\n",
       "      <td>42</td>\n",
       "      <td>3</td>\n",
       "      <td>4</td>\n",
       "      <td>2596</td>\n",
       "      <td>5099</td>\n",
       "      <td>...</td>\n",
       "      <td>False</td>\n",
       "      <td>False</td>\n",
       "      <td>False</td>\n",
       "      <td>False</td>\n",
       "      <td>False</td>\n",
       "      <td>True</td>\n",
       "      <td>False</td>\n",
       "      <td>True</td>\n",
       "      <td>False</td>\n",
       "      <td>True</td>\n",
       "    </tr>\n",
       "    <tr>\n",
       "      <th>1</th>\n",
       "      <td>35</td>\n",
       "      <td>921</td>\n",
       "      <td>8</td>\n",
       "      <td>3</td>\n",
       "      <td>1</td>\n",
       "      <td>46</td>\n",
       "      <td>3</td>\n",
       "      <td>1</td>\n",
       "      <td>2899</td>\n",
       "      <td>10778</td>\n",
       "      <td>...</td>\n",
       "      <td>False</td>\n",
       "      <td>False</td>\n",
       "      <td>False</td>\n",
       "      <td>True</td>\n",
       "      <td>False</td>\n",
       "      <td>True</td>\n",
       "      <td>False</td>\n",
       "      <td>True</td>\n",
       "      <td>True</td>\n",
       "      <td>False</td>\n",
       "    </tr>\n",
       "    <tr>\n",
       "      <th>2</th>\n",
       "      <td>32</td>\n",
       "      <td>718</td>\n",
       "      <td>26</td>\n",
       "      <td>3</td>\n",
       "      <td>3</td>\n",
       "      <td>80</td>\n",
       "      <td>3</td>\n",
       "      <td>4</td>\n",
       "      <td>4627</td>\n",
       "      <td>16495</td>\n",
       "      <td>...</td>\n",
       "      <td>False</td>\n",
       "      <td>False</td>\n",
       "      <td>True</td>\n",
       "      <td>False</td>\n",
       "      <td>True</td>\n",
       "      <td>False</td>\n",
       "      <td>False</td>\n",
       "      <td>True</td>\n",
       "      <td>True</td>\n",
       "      <td>False</td>\n",
       "    </tr>\n",
       "    <tr>\n",
       "      <th>3</th>\n",
       "      <td>38</td>\n",
       "      <td>1488</td>\n",
       "      <td>2</td>\n",
       "      <td>3</td>\n",
       "      <td>3</td>\n",
       "      <td>40</td>\n",
       "      <td>3</td>\n",
       "      <td>1</td>\n",
       "      <td>5347</td>\n",
       "      <td>13384</td>\n",
       "      <td>...</td>\n",
       "      <td>False</td>\n",
       "      <td>False</td>\n",
       "      <td>False</td>\n",
       "      <td>False</td>\n",
       "      <td>False</td>\n",
       "      <td>True</td>\n",
       "      <td>False</td>\n",
       "      <td>True</td>\n",
       "      <td>True</td>\n",
       "      <td>False</td>\n",
       "    </tr>\n",
       "    <tr>\n",
       "      <th>4</th>\n",
       "      <td>50</td>\n",
       "      <td>1017</td>\n",
       "      <td>5</td>\n",
       "      <td>4</td>\n",
       "      <td>2</td>\n",
       "      <td>37</td>\n",
       "      <td>3</td>\n",
       "      <td>1</td>\n",
       "      <td>19033</td>\n",
       "      <td>19805</td>\n",
       "      <td>...</td>\n",
       "      <td>False</td>\n",
       "      <td>False</td>\n",
       "      <td>False</td>\n",
       "      <td>False</td>\n",
       "      <td>False</td>\n",
       "      <td>False</td>\n",
       "      <td>True</td>\n",
       "      <td>True</td>\n",
       "      <td>False</td>\n",
       "      <td>True</td>\n",
       "    </tr>\n",
       "  </tbody>\n",
       "</table>\n",
       "<p>5 rows × 51 columns</p>\n",
       "</div>"
      ],
      "text/plain": [
       "   Age  DailyRate  DistanceFromHome  Education  EnvironmentSatisfaction  \\\n",
       "0   36        599                24          3                        4   \n",
       "1   35        921                 8          3                        1   \n",
       "2   32        718                26          3                        3   \n",
       "3   38       1488                 2          3                        3   \n",
       "4   50       1017                 5          4                        2   \n",
       "\n",
       "   HourlyRate  JobInvolvement  JobSatisfaction  MonthlyIncome  MonthlyRate  \\\n",
       "0          42               3                4           2596         5099   \n",
       "1          46               3                1           2899        10778   \n",
       "2          80               3                4           4627        16495   \n",
       "3          40               3                1           5347        13384   \n",
       "4          37               3                1          19033        19805   \n",
       "\n",
       "   ...  JobRole_Research Director  JobRole_Research Scientist  \\\n",
       "0  ...                      False                       False   \n",
       "1  ...                      False                       False   \n",
       "2  ...                      False                       False   \n",
       "3  ...                      False                       False   \n",
       "4  ...                      False                       False   \n",
       "\n",
       "   JobRole_Sales Executive  JobRole_Sales Representative  \\\n",
       "0                    False                         False   \n",
       "1                    False                          True   \n",
       "2                     True                         False   \n",
       "3                    False                         False   \n",
       "4                    False                         False   \n",
       "\n",
       "   MaritalStatus_Divorced  MaritalStatus_Married  MaritalStatus_Single  \\\n",
       "0                   False                   True                 False   \n",
       "1                   False                   True                 False   \n",
       "2                    True                  False                 False   \n",
       "3                   False                   True                 False   \n",
       "4                   False                  False                  True   \n",
       "\n",
       "   Over18_Y  OverTime_No  OverTime_Yes  \n",
       "0      True        False          True  \n",
       "1      True         True         False  \n",
       "2      True         True         False  \n",
       "3      True         True         False  \n",
       "4      True        False          True  \n",
       "\n",
       "[5 rows x 51 columns]"
      ]
     },
     "execution_count": 31,
     "metadata": {},
     "output_type": "execute_result"
    }
   ],
   "source": [
    "X.head()"
   ]
  },
  {
   "cell_type": "code",
   "execution_count": 32,
   "id": "a368594b",
   "metadata": {
    "execution": {
     "iopub.execute_input": "2024-01-16T17:10:36.362575Z",
     "iopub.status.busy": "2024-01-16T17:10:36.361803Z",
     "iopub.status.idle": "2024-01-16T17:10:36.633560Z",
     "shell.execute_reply": "2024-01-16T17:10:36.632419Z"
    },
    "papermill": {
     "duration": 0.305931,
     "end_time": "2024-01-16T17:10:36.636472",
     "exception": false,
     "start_time": "2024-01-16T17:10:36.330541",
     "status": "completed"
    },
    "tags": []
   },
   "outputs": [],
   "source": [
    "# Train and test split \n",
    "import sklearn.model_selection as model_selection\n",
    "X_train,X_test,y_train,y_test = model_selection.train_test_split(X,y,test_size=0.2,random_state=200)"
   ]
  },
  {
   "cell_type": "code",
   "execution_count": 33,
   "id": "d1958715",
   "metadata": {
    "execution": {
     "iopub.execute_input": "2024-01-16T17:10:36.698556Z",
     "iopub.status.busy": "2024-01-16T17:10:36.697537Z",
     "iopub.status.idle": "2024-01-16T17:10:36.702547Z",
     "shell.execute_reply": "2024-01-16T17:10:36.701771Z"
    },
    "papermill": {
     "duration": 0.038493,
     "end_time": "2024-01-16T17:10:36.704913",
     "exception": false,
     "start_time": "2024-01-16T17:10:36.666420",
     "status": "completed"
    },
    "tags": []
   },
   "outputs": [],
   "source": [
    "#Bagging Classifier"
   ]
  },
  {
   "cell_type": "code",
   "execution_count": 34,
   "id": "916f5213",
   "metadata": {
    "execution": {
     "iopub.execute_input": "2024-01-16T17:10:36.766233Z",
     "iopub.status.busy": "2024-01-16T17:10:36.765817Z",
     "iopub.status.idle": "2024-01-16T17:10:37.042528Z",
     "shell.execute_reply": "2024-01-16T17:10:37.041496Z"
    },
    "papermill": {
     "duration": 0.310575,
     "end_time": "2024-01-16T17:10:37.045207",
     "exception": false,
     "start_time": "2024-01-16T17:10:36.734632",
     "status": "completed"
    },
    "tags": []
   },
   "outputs": [],
   "source": [
    "from sklearn.ensemble import BaggingClassifier \n",
    "from sklearn.tree import DecisionTreeClassifier\n",
    "\n"
   ]
  },
  {
   "cell_type": "code",
   "execution_count": 35,
   "id": "fbd946e5",
   "metadata": {
    "execution": {
     "iopub.execute_input": "2024-01-16T17:10:37.106463Z",
     "iopub.status.busy": "2024-01-16T17:10:37.106065Z",
     "iopub.status.idle": "2024-01-16T17:10:56.445144Z",
     "shell.execute_reply": "2024-01-16T17:10:56.444024Z"
    },
    "papermill": {
     "duration": 19.372679,
     "end_time": "2024-01-16T17:10:56.447669",
     "exception": false,
     "start_time": "2024-01-16T17:10:37.074990",
     "status": "completed"
    },
    "tags": []
   },
   "outputs": [
    {
     "name": "stdout",
     "output_type": "stream",
     "text": [
      "the number of estimators =  10\n",
      "Out of bag score is 0.8732289336316182\n",
      "the number of estimators =  40\n",
      "Out of bag score is 0.8754660700969426\n",
      "the number of estimators =  70\n",
      "Out of bag score is 0.8784489187173751\n",
      "the number of estimators =  100\n",
      "Out of bag score is 0.8873974645786726\n",
      "the number of estimators =  130\n",
      "Out of bag score is 0.8866517524235645\n",
      "the number of estimators =  160\n",
      "Out of bag score is 0.8866517524235645\n",
      "the number of estimators =  190\n",
      "Out of bag score is 0.889634601043997\n",
      "the number of estimators =  220\n",
      "Out of bag score is 0.8866517524235645\n",
      "the number of estimators =  250\n",
      "Out of bag score is 0.8844146159582401\n",
      "the number of estimators =  280\n",
      "Out of bag score is 0.8866517524235645\n"
     ]
    }
   ],
   "source": [
    "# Find out best number of estimators \n",
    "for i in range(10,300,30):  # range( start, stop, step)\n",
    "    clf = BaggingClassifier(oob_score=True, n_estimators=i, random_state=300, estimator=DecisionTreeClassifier())\n",
    "    #clf = BaggingClassifier(oob_score=True, n_estimators=i, random_state=300, base_estimator=DecisionTreeClassifier())\n",
    "    clf.fit (X_train, y_train)\n",
    "    oob = clf.oob_score_ \n",
    "    print(\"the number of estimators = \", str(i))\n",
    "    print(\"Out of bag score is\", str(oob))"
   ]
  },
  {
   "cell_type": "code",
   "execution_count": 36,
   "id": "ba8532de",
   "metadata": {
    "execution": {
     "iopub.execute_input": "2024-01-16T17:10:56.512633Z",
     "iopub.status.busy": "2024-01-16T17:10:56.511730Z",
     "iopub.status.idle": "2024-01-16T17:11:29.240844Z",
     "shell.execute_reply": "2024-01-16T17:11:29.239659Z"
    },
    "papermill": {
     "duration": 32.795131,
     "end_time": "2024-01-16T17:11:29.274463",
     "exception": false,
     "start_time": "2024-01-16T17:10:56.479332",
     "status": "completed"
    },
    "tags": []
   },
   "outputs": [
    {
     "name": "stdout",
     "output_type": "stream",
     "text": [
      "the number of estimators =  200\n",
      "Out of bag score is 0.8873974645786726\n",
      "the number of estimators =  210\n",
      "Out of bag score is 0.8866517524235645\n",
      "the number of estimators =  220\n",
      "Out of bag score is 0.8866517524235645\n",
      "the number of estimators =  230\n",
      "Out of bag score is 0.8873974645786726\n",
      "the number of estimators =  240\n",
      "Out of bag score is 0.8851603281133482\n",
      "the number of estimators =  250\n",
      "Out of bag score is 0.8844146159582401\n",
      "the number of estimators =  260\n",
      "Out of bag score is 0.8859060402684564\n",
      "the number of estimators =  270\n",
      "Out of bag score is 0.8859060402684564\n",
      "the number of estimators =  280\n",
      "Out of bag score is 0.8866517524235645\n",
      "the number of estimators =  290\n",
      "Out of bag score is 0.8888888888888888\n"
     ]
    }
   ],
   "source": [
    "# Find out best number of estimators \n",
    "for i in range(200,300,10):  # range( start, stop, step)\n",
    "    clf = BaggingClassifier(oob_score=True, n_estimators=i, random_state=300, estimator=DecisionTreeClassifier())\n",
    "    #clf = BaggingClassifier(oob_score=True, n_estimators=i, random_state=300, base_estimator=DecisionTreeClassifier())\n",
    "    clf.fit (X_train, y_train)\n",
    "    oob = clf.oob_score_ \n",
    "    print(\"the number of estimators = \", str(i))\n",
    "    print(\"Out of bag score is\", str(oob))"
   ]
  },
  {
   "cell_type": "code",
   "execution_count": 37,
   "id": "3953ca01",
   "metadata": {
    "execution": {
     "iopub.execute_input": "2024-01-16T17:11:29.340508Z",
     "iopub.status.busy": "2024-01-16T17:11:29.340122Z",
     "iopub.status.idle": "2024-01-16T17:11:32.415477Z",
     "shell.execute_reply": "2024-01-16T17:11:32.414156Z"
    },
    "papermill": {
     "duration": 3.111782,
     "end_time": "2024-01-16T17:11:32.418119",
     "exception": false,
     "start_time": "2024-01-16T17:11:29.306337",
     "status": "completed"
    },
    "tags": []
   },
   "outputs": [
    {
     "data": {
      "text/plain": [
       "0.8873974645786726"
      ]
     },
     "execution_count": 37,
     "metadata": {},
     "output_type": "execute_result"
    }
   ],
   "source": [
    "# Experiment with 210 trees \n",
    "clf = BaggingClassifier(oob_score=True, n_estimators=230, random_state=300, base_estimator=DecisionTreeClassifier())\n",
    "clf.fit (X_train, y_train)\n",
    "oob = clf.oob_score_ \n",
    "oob"
   ]
  },
  {
   "cell_type": "code",
   "execution_count": 38,
   "id": "cfafacb8",
   "metadata": {
    "execution": {
     "iopub.execute_input": "2024-01-16T17:11:32.485246Z",
     "iopub.status.busy": "2024-01-16T17:11:32.484851Z",
     "iopub.status.idle": "2024-01-16T17:11:32.549000Z",
     "shell.execute_reply": "2024-01-16T17:11:32.547734Z"
    },
    "papermill": {
     "duration": 0.101173,
     "end_time": "2024-01-16T17:11:32.551603",
     "exception": false,
     "start_time": "2024-01-16T17:11:32.450430",
     "status": "completed"
    },
    "tags": []
   },
   "outputs": [
    {
     "data": {
      "text/plain": [
       "array([[297,   6],\n",
       "       [ 31,   2]])"
      ]
     },
     "execution_count": 38,
     "metadata": {},
     "output_type": "execute_result"
    }
   ],
   "source": [
    "import sklearn.metrics as metrics\n",
    "metrics.confusion_matrix( y_test, clf.predict(X_test))"
   ]
  },
  {
   "cell_type": "code",
   "execution_count": 39,
   "id": "07dc11eb",
   "metadata": {
    "execution": {
     "iopub.execute_input": "2024-01-16T17:11:32.619276Z",
     "iopub.status.busy": "2024-01-16T17:11:32.618882Z",
     "iopub.status.idle": "2024-01-16T17:11:32.622802Z",
     "shell.execute_reply": "2024-01-16T17:11:32.622001Z"
    },
    "papermill": {
     "duration": 0.040171,
     "end_time": "2024-01-16T17:11:32.624836",
     "exception": false,
     "start_time": "2024-01-16T17:11:32.584665",
     "status": "completed"
    },
    "tags": []
   },
   "outputs": [],
   "source": [
    "#Randomforest\n"
   ]
  },
  {
   "cell_type": "code",
   "execution_count": 40,
   "id": "5aa93d26",
   "metadata": {
    "execution": {
     "iopub.execute_input": "2024-01-16T17:11:32.691684Z",
     "iopub.status.busy": "2024-01-16T17:11:32.691230Z",
     "iopub.status.idle": "2024-01-16T17:11:56.712039Z",
     "shell.execute_reply": "2024-01-16T17:11:56.710779Z"
    },
    "papermill": {
     "duration": 24.057105,
     "end_time": "2024-01-16T17:11:56.714453",
     "exception": false,
     "start_time": "2024-01-16T17:11:32.657348",
     "status": "completed"
    },
    "tags": []
   },
   "outputs": [
    {
     "data": {
      "text/html": [
       "<style>#sk-container-id-1 {color: black;background-color: white;}#sk-container-id-1 pre{padding: 0;}#sk-container-id-1 div.sk-toggleable {background-color: white;}#sk-container-id-1 label.sk-toggleable__label {cursor: pointer;display: block;width: 100%;margin-bottom: 0;padding: 0.3em;box-sizing: border-box;text-align: center;}#sk-container-id-1 label.sk-toggleable__label-arrow:before {content: \"▸\";float: left;margin-right: 0.25em;color: #696969;}#sk-container-id-1 label.sk-toggleable__label-arrow:hover:before {color: black;}#sk-container-id-1 div.sk-estimator:hover label.sk-toggleable__label-arrow:before {color: black;}#sk-container-id-1 div.sk-toggleable__content {max-height: 0;max-width: 0;overflow: hidden;text-align: left;background-color: #f0f8ff;}#sk-container-id-1 div.sk-toggleable__content pre {margin: 0.2em;color: black;border-radius: 0.25em;background-color: #f0f8ff;}#sk-container-id-1 input.sk-toggleable__control:checked~div.sk-toggleable__content {max-height: 200px;max-width: 100%;overflow: auto;}#sk-container-id-1 input.sk-toggleable__control:checked~label.sk-toggleable__label-arrow:before {content: \"▾\";}#sk-container-id-1 div.sk-estimator input.sk-toggleable__control:checked~label.sk-toggleable__label {background-color: #d4ebff;}#sk-container-id-1 div.sk-label input.sk-toggleable__control:checked~label.sk-toggleable__label {background-color: #d4ebff;}#sk-container-id-1 input.sk-hidden--visually {border: 0;clip: rect(1px 1px 1px 1px);clip: rect(1px, 1px, 1px, 1px);height: 1px;margin: -1px;overflow: hidden;padding: 0;position: absolute;width: 1px;}#sk-container-id-1 div.sk-estimator {font-family: monospace;background-color: #f0f8ff;border: 1px dotted black;border-radius: 0.25em;box-sizing: border-box;margin-bottom: 0.5em;}#sk-container-id-1 div.sk-estimator:hover {background-color: #d4ebff;}#sk-container-id-1 div.sk-parallel-item::after {content: \"\";width: 100%;border-bottom: 1px solid gray;flex-grow: 1;}#sk-container-id-1 div.sk-label:hover label.sk-toggleable__label {background-color: #d4ebff;}#sk-container-id-1 div.sk-serial::before {content: \"\";position: absolute;border-left: 1px solid gray;box-sizing: border-box;top: 0;bottom: 0;left: 50%;z-index: 0;}#sk-container-id-1 div.sk-serial {display: flex;flex-direction: column;align-items: center;background-color: white;padding-right: 0.2em;padding-left: 0.2em;position: relative;}#sk-container-id-1 div.sk-item {position: relative;z-index: 1;}#sk-container-id-1 div.sk-parallel {display: flex;align-items: stretch;justify-content: center;background-color: white;position: relative;}#sk-container-id-1 div.sk-item::before, #sk-container-id-1 div.sk-parallel-item::before {content: \"\";position: absolute;border-left: 1px solid gray;box-sizing: border-box;top: 0;bottom: 0;left: 50%;z-index: -1;}#sk-container-id-1 div.sk-parallel-item {display: flex;flex-direction: column;z-index: 1;position: relative;background-color: white;}#sk-container-id-1 div.sk-parallel-item:first-child::after {align-self: flex-end;width: 50%;}#sk-container-id-1 div.sk-parallel-item:last-child::after {align-self: flex-start;width: 50%;}#sk-container-id-1 div.sk-parallel-item:only-child::after {width: 0;}#sk-container-id-1 div.sk-dashed-wrapped {border: 1px dashed gray;margin: 0 0.4em 0.5em 0.4em;box-sizing: border-box;padding-bottom: 0.4em;background-color: white;}#sk-container-id-1 div.sk-label label {font-family: monospace;font-weight: bold;display: inline-block;line-height: 1.2em;}#sk-container-id-1 div.sk-label-container {text-align: center;}#sk-container-id-1 div.sk-container {/* jupyter's `normalize.less` sets `[hidden] { display: none; }` but bootstrap.min.css set `[hidden] { display: none !important; }` so we also need the `!important` here to be able to override the default hidden behavior on the sphinx rendered scikit-learn.org. See: https://github.com/scikit-learn/scikit-learn/issues/21755 */display: inline-block !important;position: relative;}#sk-container-id-1 div.sk-text-repr-fallback {display: none;}</style><div id=\"sk-container-id-1\" class=\"sk-top-container\"><div class=\"sk-text-repr-fallback\"><pre>RandomizedSearchCV(cv=5, estimator=RandomForestClassifier(), n_iter=5,\n",
       "                   param_distributions={&#x27;criterion&#x27;: [&#x27;gini&#x27;, &#x27;entropy&#x27;],\n",
       "                                        &#x27;max_depth&#x27;: &lt;scipy.stats._distn_infrastructure.rv_discrete_frozen object at 0x7bfe4a3f2020&gt;,\n",
       "                                        &#x27;max_features&#x27;: [&#x27;auto&#x27;, &#x27;sqrt&#x27;, &#x27;log2&#x27;,\n",
       "                                                         None],\n",
       "                                        &#x27;n_estimators&#x27;: &lt;scipy.stats._distn_infrastructure.rv_discrete_frozen object at 0x7bfe492d64a0&gt;})</pre><b>In a Jupyter environment, please rerun this cell to show the HTML representation or trust the notebook. <br />On GitHub, the HTML representation is unable to render, please try loading this page with nbviewer.org.</b></div><div class=\"sk-container\" hidden><div class=\"sk-item sk-dashed-wrapped\"><div class=\"sk-label-container\"><div class=\"sk-label sk-toggleable\"><input class=\"sk-toggleable__control sk-hidden--visually\" id=\"sk-estimator-id-1\" type=\"checkbox\" ><label for=\"sk-estimator-id-1\" class=\"sk-toggleable__label sk-toggleable__label-arrow\">RandomizedSearchCV</label><div class=\"sk-toggleable__content\"><pre>RandomizedSearchCV(cv=5, estimator=RandomForestClassifier(), n_iter=5,\n",
       "                   param_distributions={&#x27;criterion&#x27;: [&#x27;gini&#x27;, &#x27;entropy&#x27;],\n",
       "                                        &#x27;max_depth&#x27;: &lt;scipy.stats._distn_infrastructure.rv_discrete_frozen object at 0x7bfe4a3f2020&gt;,\n",
       "                                        &#x27;max_features&#x27;: [&#x27;auto&#x27;, &#x27;sqrt&#x27;, &#x27;log2&#x27;,\n",
       "                                                         None],\n",
       "                                        &#x27;n_estimators&#x27;: &lt;scipy.stats._distn_infrastructure.rv_discrete_frozen object at 0x7bfe492d64a0&gt;})</pre></div></div></div><div class=\"sk-parallel\"><div class=\"sk-parallel-item\"><div class=\"sk-item\"><div class=\"sk-label-container\"><div class=\"sk-label sk-toggleable\"><input class=\"sk-toggleable__control sk-hidden--visually\" id=\"sk-estimator-id-2\" type=\"checkbox\" ><label for=\"sk-estimator-id-2\" class=\"sk-toggleable__label sk-toggleable__label-arrow\">estimator: RandomForestClassifier</label><div class=\"sk-toggleable__content\"><pre>RandomForestClassifier()</pre></div></div></div><div class=\"sk-serial\"><div class=\"sk-item\"><div class=\"sk-estimator sk-toggleable\"><input class=\"sk-toggleable__control sk-hidden--visually\" id=\"sk-estimator-id-3\" type=\"checkbox\" ><label for=\"sk-estimator-id-3\" class=\"sk-toggleable__label sk-toggleable__label-arrow\">RandomForestClassifier</label><div class=\"sk-toggleable__content\"><pre>RandomForestClassifier()</pre></div></div></div></div></div></div></div></div></div></div>"
      ],
      "text/plain": [
       "RandomizedSearchCV(cv=5, estimator=RandomForestClassifier(), n_iter=5,\n",
       "                   param_distributions={'criterion': ['gini', 'entropy'],\n",
       "                                        'max_depth': <scipy.stats._distn_infrastructure.rv_discrete_frozen object at 0x7bfe4a3f2020>,\n",
       "                                        'max_features': ['auto', 'sqrt', 'log2',\n",
       "                                                         None],\n",
       "                                        'n_estimators': <scipy.stats._distn_infrastructure.rv_discrete_frozen object at 0x7bfe492d64a0>})"
      ]
     },
     "execution_count": 40,
     "metadata": {},
     "output_type": "execute_result"
    }
   ],
   "source": [
    "# n_estimators \n",
    "# max_depth \n",
    "# criertion \n",
    "# max_features \n",
    "from scipy.stats import randint \n",
    "from sklearn.ensemble import RandomForestClassifier\n",
    "from sklearn.model_selection import RandomizedSearchCV\n",
    "\n",
    "param = { 'n_estimators': randint(50, 500),\n",
    "          'max_depth' : randint (1,50), \n",
    "          'criterion': ['gini', 'entropy'],\n",
    "          #'max_features' : [3,4,5,6,7]}\n",
    "         'max_features' : ['auto', 'sqrt', 'log2', None]}\n",
    "\n",
    "# Max_features\n",
    "# Auto:- sqrt(feature_count)\n",
    "# sqrt:- sqrt(feature_count)\n",
    "# log2:- log2(feature_count)\n",
    "# None:- all the features in all the trees ( same as bagging classifier )\n",
    "\n",
    "# create a random forest classifier \n",
    "rf = RandomForestClassifier()\n",
    "\n",
    "# Try all possible cominations from the param set \n",
    "rand_search = RandomizedSearchCV( rf, param_distributions= param, n_iter=5, cv =5 )\n",
    "\n",
    "rand_search.fit(X_train, y_train)"
   ]
  },
  {
   "cell_type": "code",
   "execution_count": 41,
   "id": "0e385e40",
   "metadata": {
    "execution": {
     "iopub.execute_input": "2024-01-16T17:11:56.781535Z",
     "iopub.status.busy": "2024-01-16T17:11:56.781146Z",
     "iopub.status.idle": "2024-01-16T17:11:56.787326Z",
     "shell.execute_reply": "2024-01-16T17:11:56.786091Z"
    },
    "papermill": {
     "duration": 0.042482,
     "end_time": "2024-01-16T17:11:56.789836",
     "exception": false,
     "start_time": "2024-01-16T17:11:56.747354",
     "status": "completed"
    },
    "tags": []
   },
   "outputs": [
    {
     "name": "stdout",
     "output_type": "stream",
     "text": [
      " Best Hyperparameters {'criterion': 'gini', 'max_depth': 14, 'max_features': 'auto', 'n_estimators': 160}\n"
     ]
    }
   ],
   "source": [
    "# display the the best model \n",
    "best_rf = rand_search.best_estimator_ \n",
    "\n",
    "print( \" Best Hyperparameters\", rand_search.best_params_ )"
   ]
  },
  {
   "cell_type": "code",
   "execution_count": 42,
   "id": "468287dc",
   "metadata": {
    "execution": {
     "iopub.execute_input": "2024-01-16T17:11:56.858479Z",
     "iopub.status.busy": "2024-01-16T17:11:56.857572Z",
     "iopub.status.idle": "2024-01-16T17:11:56.886642Z",
     "shell.execute_reply": "2024-01-16T17:11:56.885571Z"
    },
    "papermill": {
     "duration": 0.066293,
     "end_time": "2024-01-16T17:11:56.889312",
     "exception": false,
     "start_time": "2024-01-16T17:11:56.823019",
     "status": "completed"
    },
    "tags": []
   },
   "outputs": [],
   "source": [
    "# generate prediction with this best model \n",
    "y_pred = best_rf.predict(X_test)"
   ]
  },
  {
   "cell_type": "code",
   "execution_count": 43,
   "id": "f710f142",
   "metadata": {
    "execution": {
     "iopub.execute_input": "2024-01-16T17:11:56.957111Z",
     "iopub.status.busy": "2024-01-16T17:11:56.956663Z",
     "iopub.status.idle": "2024-01-16T17:11:56.966971Z",
     "shell.execute_reply": "2024-01-16T17:11:56.965752Z"
    },
    "papermill": {
     "duration": 0.047225,
     "end_time": "2024-01-16T17:11:56.969473",
     "exception": false,
     "start_time": "2024-01-16T17:11:56.922248",
     "status": "completed"
    },
    "tags": []
   },
   "outputs": [
    {
     "data": {
      "text/plain": [
       "array([[302,   1],\n",
       "       [ 31,   2]])"
      ]
     },
     "execution_count": 43,
     "metadata": {},
     "output_type": "execute_result"
    }
   ],
   "source": [
    "# Create confusion matrix from the best model \n",
    "from sklearn.metrics import confusion_matrix\n",
    "\n",
    "cm = confusion_matrix(y_test, y_pred)\n",
    "cm\n",
    "#ConfusionMatrixDisplay(confusion_matrix=cm).plot()"
   ]
  },
  {
   "cell_type": "code",
   "execution_count": 44,
   "id": "97a56ee7",
   "metadata": {
    "execution": {
     "iopub.execute_input": "2024-01-16T17:11:57.037130Z",
     "iopub.status.busy": "2024-01-16T17:11:57.036704Z",
     "iopub.status.idle": "2024-01-16T17:11:57.040744Z",
     "shell.execute_reply": "2024-01-16T17:11:57.039913Z"
    },
    "papermill": {
     "duration": 0.040838,
     "end_time": "2024-01-16T17:11:57.042793",
     "exception": false,
     "start_time": "2024-01-16T17:11:57.001955",
     "status": "completed"
    },
    "tags": []
   },
   "outputs": [],
   "source": [
    "#Boosting classifier\n"
   ]
  },
  {
   "cell_type": "code",
   "execution_count": 45,
   "id": "ad1d5b09",
   "metadata": {
    "execution": {
     "iopub.execute_input": "2024-01-16T17:11:57.109579Z",
     "iopub.status.busy": "2024-01-16T17:11:57.109208Z",
     "iopub.status.idle": "2024-01-16T17:11:57.114322Z",
     "shell.execute_reply": "2024-01-16T17:11:57.113131Z"
    },
    "papermill": {
     "duration": 0.041141,
     "end_time": "2024-01-16T17:11:57.116574",
     "exception": false,
     "start_time": "2024-01-16T17:11:57.075433",
     "status": "completed"
    },
    "tags": []
   },
   "outputs": [],
   "source": [
    "# Gradiend Boosting classifier \n",
    "from sklearn.ensemble import GradientBoostingClassifier\n",
    "from sklearn.metrics import accuracy_score, confusion_matrix, classification_report"
   ]
  },
  {
   "cell_type": "code",
   "execution_count": 46,
   "id": "6a5b7511",
   "metadata": {
    "execution": {
     "iopub.execute_input": "2024-01-16T17:11:57.185133Z",
     "iopub.status.busy": "2024-01-16T17:11:57.184702Z",
     "iopub.status.idle": "2024-01-16T17:11:57.742303Z",
     "shell.execute_reply": "2024-01-16T17:11:57.740909Z"
    },
    "papermill": {
     "duration": 0.59509,
     "end_time": "2024-01-16T17:11:57.744962",
     "exception": false,
     "start_time": "2024-01-16T17:11:57.149872",
     "status": "completed"
    },
    "tags": []
   },
   "outputs": [
    {
     "data": {
      "text/html": [
       "<style>#sk-container-id-2 {color: black;background-color: white;}#sk-container-id-2 pre{padding: 0;}#sk-container-id-2 div.sk-toggleable {background-color: white;}#sk-container-id-2 label.sk-toggleable__label {cursor: pointer;display: block;width: 100%;margin-bottom: 0;padding: 0.3em;box-sizing: border-box;text-align: center;}#sk-container-id-2 label.sk-toggleable__label-arrow:before {content: \"▸\";float: left;margin-right: 0.25em;color: #696969;}#sk-container-id-2 label.sk-toggleable__label-arrow:hover:before {color: black;}#sk-container-id-2 div.sk-estimator:hover label.sk-toggleable__label-arrow:before {color: black;}#sk-container-id-2 div.sk-toggleable__content {max-height: 0;max-width: 0;overflow: hidden;text-align: left;background-color: #f0f8ff;}#sk-container-id-2 div.sk-toggleable__content pre {margin: 0.2em;color: black;border-radius: 0.25em;background-color: #f0f8ff;}#sk-container-id-2 input.sk-toggleable__control:checked~div.sk-toggleable__content {max-height: 200px;max-width: 100%;overflow: auto;}#sk-container-id-2 input.sk-toggleable__control:checked~label.sk-toggleable__label-arrow:before {content: \"▾\";}#sk-container-id-2 div.sk-estimator input.sk-toggleable__control:checked~label.sk-toggleable__label {background-color: #d4ebff;}#sk-container-id-2 div.sk-label input.sk-toggleable__control:checked~label.sk-toggleable__label {background-color: #d4ebff;}#sk-container-id-2 input.sk-hidden--visually {border: 0;clip: rect(1px 1px 1px 1px);clip: rect(1px, 1px, 1px, 1px);height: 1px;margin: -1px;overflow: hidden;padding: 0;position: absolute;width: 1px;}#sk-container-id-2 div.sk-estimator {font-family: monospace;background-color: #f0f8ff;border: 1px dotted black;border-radius: 0.25em;box-sizing: border-box;margin-bottom: 0.5em;}#sk-container-id-2 div.sk-estimator:hover {background-color: #d4ebff;}#sk-container-id-2 div.sk-parallel-item::after {content: \"\";width: 100%;border-bottom: 1px solid gray;flex-grow: 1;}#sk-container-id-2 div.sk-label:hover label.sk-toggleable__label {background-color: #d4ebff;}#sk-container-id-2 div.sk-serial::before {content: \"\";position: absolute;border-left: 1px solid gray;box-sizing: border-box;top: 0;bottom: 0;left: 50%;z-index: 0;}#sk-container-id-2 div.sk-serial {display: flex;flex-direction: column;align-items: center;background-color: white;padding-right: 0.2em;padding-left: 0.2em;position: relative;}#sk-container-id-2 div.sk-item {position: relative;z-index: 1;}#sk-container-id-2 div.sk-parallel {display: flex;align-items: stretch;justify-content: center;background-color: white;position: relative;}#sk-container-id-2 div.sk-item::before, #sk-container-id-2 div.sk-parallel-item::before {content: \"\";position: absolute;border-left: 1px solid gray;box-sizing: border-box;top: 0;bottom: 0;left: 50%;z-index: -1;}#sk-container-id-2 div.sk-parallel-item {display: flex;flex-direction: column;z-index: 1;position: relative;background-color: white;}#sk-container-id-2 div.sk-parallel-item:first-child::after {align-self: flex-end;width: 50%;}#sk-container-id-2 div.sk-parallel-item:last-child::after {align-self: flex-start;width: 50%;}#sk-container-id-2 div.sk-parallel-item:only-child::after {width: 0;}#sk-container-id-2 div.sk-dashed-wrapped {border: 1px dashed gray;margin: 0 0.4em 0.5em 0.4em;box-sizing: border-box;padding-bottom: 0.4em;background-color: white;}#sk-container-id-2 div.sk-label label {font-family: monospace;font-weight: bold;display: inline-block;line-height: 1.2em;}#sk-container-id-2 div.sk-label-container {text-align: center;}#sk-container-id-2 div.sk-container {/* jupyter's `normalize.less` sets `[hidden] { display: none; }` but bootstrap.min.css set `[hidden] { display: none !important; }` so we also need the `!important` here to be able to override the default hidden behavior on the sphinx rendered scikit-learn.org. See: https://github.com/scikit-learn/scikit-learn/issues/21755 */display: inline-block !important;position: relative;}#sk-container-id-2 div.sk-text-repr-fallback {display: none;}</style><div id=\"sk-container-id-2\" class=\"sk-top-container\"><div class=\"sk-text-repr-fallback\"><pre>GradientBoostingClassifier()</pre><b>In a Jupyter environment, please rerun this cell to show the HTML representation or trust the notebook. <br />On GitHub, the HTML representation is unable to render, please try loading this page with nbviewer.org.</b></div><div class=\"sk-container\" hidden><div class=\"sk-item\"><div class=\"sk-estimator sk-toggleable\"><input class=\"sk-toggleable__control sk-hidden--visually\" id=\"sk-estimator-id-4\" type=\"checkbox\" checked><label for=\"sk-estimator-id-4\" class=\"sk-toggleable__label sk-toggleable__label-arrow\">GradientBoostingClassifier</label><div class=\"sk-toggleable__content\"><pre>GradientBoostingClassifier()</pre></div></div></div></div></div>"
      ],
      "text/plain": [
       "GradientBoostingClassifier()"
      ]
     },
     "execution_count": 46,
     "metadata": {},
     "output_type": "execute_result"
    }
   ],
   "source": [
    "gb = GradientBoostingClassifier()\n",
    "gb.fit(X_train, y_train)"
   ]
  },
  {
   "cell_type": "code",
   "execution_count": 47,
   "id": "938608f5",
   "metadata": {
    "execution": {
     "iopub.execute_input": "2024-01-16T17:11:57.823687Z",
     "iopub.status.busy": "2024-01-16T17:11:57.823261Z",
     "iopub.status.idle": "2024-01-16T17:11:57.833618Z",
     "shell.execute_reply": "2024-01-16T17:11:57.832090Z"
    },
    "papermill": {
     "duration": 0.04829,
     "end_time": "2024-01-16T17:11:57.836381",
     "exception": false,
     "start_time": "2024-01-16T17:11:57.788091",
     "status": "completed"
    },
    "tags": []
   },
   "outputs": [
    {
     "data": {
      "text/html": [
       "<style>#sk-container-id-3 {color: black;background-color: white;}#sk-container-id-3 pre{padding: 0;}#sk-container-id-3 div.sk-toggleable {background-color: white;}#sk-container-id-3 label.sk-toggleable__label {cursor: pointer;display: block;width: 100%;margin-bottom: 0;padding: 0.3em;box-sizing: border-box;text-align: center;}#sk-container-id-3 label.sk-toggleable__label-arrow:before {content: \"▸\";float: left;margin-right: 0.25em;color: #696969;}#sk-container-id-3 label.sk-toggleable__label-arrow:hover:before {color: black;}#sk-container-id-3 div.sk-estimator:hover label.sk-toggleable__label-arrow:before {color: black;}#sk-container-id-3 div.sk-toggleable__content {max-height: 0;max-width: 0;overflow: hidden;text-align: left;background-color: #f0f8ff;}#sk-container-id-3 div.sk-toggleable__content pre {margin: 0.2em;color: black;border-radius: 0.25em;background-color: #f0f8ff;}#sk-container-id-3 input.sk-toggleable__control:checked~div.sk-toggleable__content {max-height: 200px;max-width: 100%;overflow: auto;}#sk-container-id-3 input.sk-toggleable__control:checked~label.sk-toggleable__label-arrow:before {content: \"▾\";}#sk-container-id-3 div.sk-estimator input.sk-toggleable__control:checked~label.sk-toggleable__label {background-color: #d4ebff;}#sk-container-id-3 div.sk-label input.sk-toggleable__control:checked~label.sk-toggleable__label {background-color: #d4ebff;}#sk-container-id-3 input.sk-hidden--visually {border: 0;clip: rect(1px 1px 1px 1px);clip: rect(1px, 1px, 1px, 1px);height: 1px;margin: -1px;overflow: hidden;padding: 0;position: absolute;width: 1px;}#sk-container-id-3 div.sk-estimator {font-family: monospace;background-color: #f0f8ff;border: 1px dotted black;border-radius: 0.25em;box-sizing: border-box;margin-bottom: 0.5em;}#sk-container-id-3 div.sk-estimator:hover {background-color: #d4ebff;}#sk-container-id-3 div.sk-parallel-item::after {content: \"\";width: 100%;border-bottom: 1px solid gray;flex-grow: 1;}#sk-container-id-3 div.sk-label:hover label.sk-toggleable__label {background-color: #d4ebff;}#sk-container-id-3 div.sk-serial::before {content: \"\";position: absolute;border-left: 1px solid gray;box-sizing: border-box;top: 0;bottom: 0;left: 50%;z-index: 0;}#sk-container-id-3 div.sk-serial {display: flex;flex-direction: column;align-items: center;background-color: white;padding-right: 0.2em;padding-left: 0.2em;position: relative;}#sk-container-id-3 div.sk-item {position: relative;z-index: 1;}#sk-container-id-3 div.sk-parallel {display: flex;align-items: stretch;justify-content: center;background-color: white;position: relative;}#sk-container-id-3 div.sk-item::before, #sk-container-id-3 div.sk-parallel-item::before {content: \"\";position: absolute;border-left: 1px solid gray;box-sizing: border-box;top: 0;bottom: 0;left: 50%;z-index: -1;}#sk-container-id-3 div.sk-parallel-item {display: flex;flex-direction: column;z-index: 1;position: relative;background-color: white;}#sk-container-id-3 div.sk-parallel-item:first-child::after {align-self: flex-end;width: 50%;}#sk-container-id-3 div.sk-parallel-item:last-child::after {align-self: flex-start;width: 50%;}#sk-container-id-3 div.sk-parallel-item:only-child::after {width: 0;}#sk-container-id-3 div.sk-dashed-wrapped {border: 1px dashed gray;margin: 0 0.4em 0.5em 0.4em;box-sizing: border-box;padding-bottom: 0.4em;background-color: white;}#sk-container-id-3 div.sk-label label {font-family: monospace;font-weight: bold;display: inline-block;line-height: 1.2em;}#sk-container-id-3 div.sk-label-container {text-align: center;}#sk-container-id-3 div.sk-container {/* jupyter's `normalize.less` sets `[hidden] { display: none; }` but bootstrap.min.css set `[hidden] { display: none !important; }` so we also need the `!important` here to be able to override the default hidden behavior on the sphinx rendered scikit-learn.org. See: https://github.com/scikit-learn/scikit-learn/issues/21755 */display: inline-block !important;position: relative;}#sk-container-id-3 div.sk-text-repr-fallback {display: none;}</style><div id=\"sk-container-id-3\" class=\"sk-top-container\"><div class=\"sk-text-repr-fallback\"><pre>GradientBoostingClassifier()</pre><b>In a Jupyter environment, please rerun this cell to show the HTML representation or trust the notebook. <br />On GitHub, the HTML representation is unable to render, please try loading this page with nbviewer.org.</b></div><div class=\"sk-container\" hidden><div class=\"sk-item\"><div class=\"sk-estimator sk-toggleable\"><input class=\"sk-toggleable__control sk-hidden--visually\" id=\"sk-estimator-id-5\" type=\"checkbox\" checked><label for=\"sk-estimator-id-5\" class=\"sk-toggleable__label sk-toggleable__label-arrow\">GradientBoostingClassifier</label><div class=\"sk-toggleable__content\"><pre>GradientBoostingClassifier()</pre></div></div></div></div></div>"
      ],
      "text/plain": [
       "GradientBoostingClassifier()"
      ]
     },
     "execution_count": 47,
     "metadata": {},
     "output_type": "execute_result"
    }
   ],
   "source": [
    "GradientBoostingClassifier()"
   ]
  },
  {
   "cell_type": "code",
   "execution_count": 48,
   "id": "7bfb45cf",
   "metadata": {
    "execution": {
     "iopub.execute_input": "2024-01-16T17:11:57.914523Z",
     "iopub.status.busy": "2024-01-16T17:11:57.914108Z",
     "iopub.status.idle": "2024-01-16T17:11:57.924516Z",
     "shell.execute_reply": "2024-01-16T17:11:57.923658Z"
    },
    "papermill": {
     "duration": 0.055278,
     "end_time": "2024-01-16T17:11:57.926929",
     "exception": false,
     "start_time": "2024-01-16T17:11:57.871651",
     "status": "completed"
    },
    "tags": []
   },
   "outputs": [],
   "source": [
    "y_pred = gb.predict(X_test) "
   ]
  },
  {
   "cell_type": "code",
   "execution_count": 49,
   "id": "3697ef09",
   "metadata": {
    "execution": {
     "iopub.execute_input": "2024-01-16T17:11:57.998094Z",
     "iopub.status.busy": "2024-01-16T17:11:57.997263Z",
     "iopub.status.idle": "2024-01-16T17:11:58.007614Z",
     "shell.execute_reply": "2024-01-16T17:11:58.006735Z"
    },
    "papermill": {
     "duration": 0.048791,
     "end_time": "2024-01-16T17:11:58.010168",
     "exception": false,
     "start_time": "2024-01-16T17:11:57.961377",
     "status": "completed"
    },
    "tags": []
   },
   "outputs": [],
   "source": [
    "# Check the accuracy with default settings\n",
    "gb_acc = accuracy_score(y_test, gb.predict(X_test))"
   ]
  },
  {
   "cell_type": "code",
   "execution_count": 50,
   "id": "ffe17de7",
   "metadata": {
    "execution": {
     "iopub.execute_input": "2024-01-16T17:11:58.087023Z",
     "iopub.status.busy": "2024-01-16T17:11:58.086213Z",
     "iopub.status.idle": "2024-01-16T17:11:58.095069Z",
     "shell.execute_reply": "2024-01-16T17:11:58.093792Z"
    },
    "papermill": {
     "duration": 0.05068,
     "end_time": "2024-01-16T17:11:58.098441",
     "exception": false,
     "start_time": "2024-01-16T17:11:58.047761",
     "status": "completed"
    },
    "tags": []
   },
   "outputs": [
    {
     "data": {
      "text/plain": [
       "0.8898809523809523"
      ]
     },
     "execution_count": 50,
     "metadata": {},
     "output_type": "execute_result"
    }
   ],
   "source": [
    "gb_acc"
   ]
  },
  {
   "cell_type": "code",
   "execution_count": 51,
   "id": "bb66ebf9",
   "metadata": {
    "execution": {
     "iopub.execute_input": "2024-01-16T17:11:58.172205Z",
     "iopub.status.busy": "2024-01-16T17:11:58.171790Z",
     "iopub.status.idle": "2024-01-16T17:11:58.181482Z",
     "shell.execute_reply": "2024-01-16T17:11:58.180405Z"
    },
    "papermill": {
     "duration": 0.048454,
     "end_time": "2024-01-16T17:11:58.183833",
     "exception": false,
     "start_time": "2024-01-16T17:11:58.135379",
     "status": "completed"
    },
    "tags": []
   },
   "outputs": [
    {
     "data": {
      "text/plain": [
       "array([[293,  10],\n",
       "       [ 27,   6]])"
      ]
     },
     "execution_count": 51,
     "metadata": {},
     "output_type": "execute_result"
    }
   ],
   "source": [
    "# Create confusion matrix and classification report \n",
    "confusion_matrix(y_test, y_pred )"
   ]
  },
  {
   "cell_type": "code",
   "execution_count": 52,
   "id": "91465431",
   "metadata": {
    "execution": {
     "iopub.execute_input": "2024-01-16T17:11:58.261191Z",
     "iopub.status.busy": "2024-01-16T17:11:58.260200Z",
     "iopub.status.idle": "2024-01-16T17:11:58.264893Z",
     "shell.execute_reply": "2024-01-16T17:11:58.264087Z"
    },
    "papermill": {
     "duration": 0.045223,
     "end_time": "2024-01-16T17:11:58.267455",
     "exception": false,
     "start_time": "2024-01-16T17:11:58.222232",
     "status": "completed"
    },
    "tags": []
   },
   "outputs": [],
   "source": [
    "#predicting test data "
   ]
  },
  {
   "cell_type": "code",
   "execution_count": 53,
   "id": "2e3733ef",
   "metadata": {
    "execution": {
     "iopub.execute_input": "2024-01-16T17:11:58.341763Z",
     "iopub.status.busy": "2024-01-16T17:11:58.340474Z",
     "iopub.status.idle": "2024-01-16T17:11:58.369135Z",
     "shell.execute_reply": "2024-01-16T17:11:58.367880Z"
    },
    "papermill": {
     "duration": 0.067334,
     "end_time": "2024-01-16T17:11:58.371748",
     "exception": false,
     "start_time": "2024-01-16T17:11:58.304414",
     "status": "completed"
    },
    "tags": []
   },
   "outputs": [],
   "source": [
    "test=pd.read_csv(\"/kaggle/input/ipba17-grade-ml-case-study-classification-code/test.csv\")"
   ]
  },
  {
   "cell_type": "code",
   "execution_count": 54,
   "id": "d060e1c0",
   "metadata": {
    "execution": {
     "iopub.execute_input": "2024-01-16T17:11:58.444352Z",
     "iopub.status.busy": "2024-01-16T17:11:58.442907Z",
     "iopub.status.idle": "2024-01-16T17:11:58.467572Z",
     "shell.execute_reply": "2024-01-16T17:11:58.466667Z"
    },
    "papermill": {
     "duration": 0.064726,
     "end_time": "2024-01-16T17:11:58.470937",
     "exception": false,
     "start_time": "2024-01-16T17:11:58.406211",
     "status": "completed"
    },
    "tags": []
   },
   "outputs": [
    {
     "data": {
      "text/html": [
       "<div>\n",
       "<style scoped>\n",
       "    .dataframe tbody tr th:only-of-type {\n",
       "        vertical-align: middle;\n",
       "    }\n",
       "\n",
       "    .dataframe tbody tr th {\n",
       "        vertical-align: top;\n",
       "    }\n",
       "\n",
       "    .dataframe thead th {\n",
       "        text-align: right;\n",
       "    }\n",
       "</style>\n",
       "<table border=\"1\" class=\"dataframe\">\n",
       "  <thead>\n",
       "    <tr style=\"text-align: right;\">\n",
       "      <th></th>\n",
       "      <th>id</th>\n",
       "      <th>Age</th>\n",
       "      <th>BusinessTravel</th>\n",
       "      <th>DailyRate</th>\n",
       "      <th>Department</th>\n",
       "      <th>DistanceFromHome</th>\n",
       "      <th>Education</th>\n",
       "      <th>EducationField</th>\n",
       "      <th>EmployeeCount</th>\n",
       "      <th>EnvironmentSatisfaction</th>\n",
       "      <th>...</th>\n",
       "      <th>RelationshipSatisfaction</th>\n",
       "      <th>StandardHours</th>\n",
       "      <th>StockOptionLevel</th>\n",
       "      <th>TotalWorkingYears</th>\n",
       "      <th>TrainingTimesLastYear</th>\n",
       "      <th>WorkLifeBalance</th>\n",
       "      <th>YearsAtCompany</th>\n",
       "      <th>YearsInCurrentRole</th>\n",
       "      <th>YearsSinceLastPromotion</th>\n",
       "      <th>YearsWithCurrManager</th>\n",
       "    </tr>\n",
       "  </thead>\n",
       "  <tbody>\n",
       "    <tr>\n",
       "      <th>0</th>\n",
       "      <td>1677</td>\n",
       "      <td>19</td>\n",
       "      <td>Non-Travel</td>\n",
       "      <td>992</td>\n",
       "      <td>Research &amp; Development</td>\n",
       "      <td>1</td>\n",
       "      <td>1</td>\n",
       "      <td>Medical</td>\n",
       "      <td>1</td>\n",
       "      <td>4</td>\n",
       "      <td>...</td>\n",
       "      <td>4</td>\n",
       "      <td>80</td>\n",
       "      <td>0</td>\n",
       "      <td>1</td>\n",
       "      <td>2</td>\n",
       "      <td>2</td>\n",
       "      <td>1</td>\n",
       "      <td>0</td>\n",
       "      <td>0</td>\n",
       "      <td>0</td>\n",
       "    </tr>\n",
       "    <tr>\n",
       "      <th>1</th>\n",
       "      <td>1678</td>\n",
       "      <td>45</td>\n",
       "      <td>Travel_Rarely</td>\n",
       "      <td>1136</td>\n",
       "      <td>Sales</td>\n",
       "      <td>4</td>\n",
       "      <td>4</td>\n",
       "      <td>Marketing</td>\n",
       "      <td>1</td>\n",
       "      <td>3</td>\n",
       "      <td>...</td>\n",
       "      <td>3</td>\n",
       "      <td>80</td>\n",
       "      <td>1</td>\n",
       "      <td>7</td>\n",
       "      <td>3</td>\n",
       "      <td>3</td>\n",
       "      <td>2</td>\n",
       "      <td>2</td>\n",
       "      <td>2</td>\n",
       "      <td>2</td>\n",
       "    </tr>\n",
       "    <tr>\n",
       "      <th>2</th>\n",
       "      <td>1679</td>\n",
       "      <td>37</td>\n",
       "      <td>Travel_Rarely</td>\n",
       "      <td>155</td>\n",
       "      <td>Research &amp; Development</td>\n",
       "      <td>13</td>\n",
       "      <td>3</td>\n",
       "      <td>Life Sciences</td>\n",
       "      <td>1</td>\n",
       "      <td>4</td>\n",
       "      <td>...</td>\n",
       "      <td>2</td>\n",
       "      <td>80</td>\n",
       "      <td>2</td>\n",
       "      <td>13</td>\n",
       "      <td>2</td>\n",
       "      <td>2</td>\n",
       "      <td>7</td>\n",
       "      <td>7</td>\n",
       "      <td>1</td>\n",
       "      <td>7</td>\n",
       "    </tr>\n",
       "    <tr>\n",
       "      <th>3</th>\n",
       "      <td>1680</td>\n",
       "      <td>32</td>\n",
       "      <td>Travel_Rarely</td>\n",
       "      <td>688</td>\n",
       "      <td>Research &amp; Development</td>\n",
       "      <td>1</td>\n",
       "      <td>4</td>\n",
       "      <td>Life Sciences</td>\n",
       "      <td>1</td>\n",
       "      <td>3</td>\n",
       "      <td>...</td>\n",
       "      <td>3</td>\n",
       "      <td>80</td>\n",
       "      <td>0</td>\n",
       "      <td>14</td>\n",
       "      <td>2</td>\n",
       "      <td>2</td>\n",
       "      <td>14</td>\n",
       "      <td>10</td>\n",
       "      <td>11</td>\n",
       "      <td>8</td>\n",
       "    </tr>\n",
       "    <tr>\n",
       "      <th>4</th>\n",
       "      <td>1681</td>\n",
       "      <td>29</td>\n",
       "      <td>Travel_Frequently</td>\n",
       "      <td>464</td>\n",
       "      <td>Research &amp; Development</td>\n",
       "      <td>9</td>\n",
       "      <td>1</td>\n",
       "      <td>Life Sciences</td>\n",
       "      <td>1</td>\n",
       "      <td>3</td>\n",
       "      <td>...</td>\n",
       "      <td>1</td>\n",
       "      <td>80</td>\n",
       "      <td>0</td>\n",
       "      <td>1</td>\n",
       "      <td>5</td>\n",
       "      <td>3</td>\n",
       "      <td>1</td>\n",
       "      <td>0</td>\n",
       "      <td>0</td>\n",
       "      <td>0</td>\n",
       "    </tr>\n",
       "  </tbody>\n",
       "</table>\n",
       "<p>5 rows × 34 columns</p>\n",
       "</div>"
      ],
      "text/plain": [
       "     id  Age     BusinessTravel  DailyRate              Department  \\\n",
       "0  1677   19         Non-Travel        992  Research & Development   \n",
       "1  1678   45      Travel_Rarely       1136                   Sales   \n",
       "2  1679   37      Travel_Rarely        155  Research & Development   \n",
       "3  1680   32      Travel_Rarely        688  Research & Development   \n",
       "4  1681   29  Travel_Frequently        464  Research & Development   \n",
       "\n",
       "   DistanceFromHome  Education EducationField  EmployeeCount  \\\n",
       "0                 1          1        Medical              1   \n",
       "1                 4          4      Marketing              1   \n",
       "2                13          3  Life Sciences              1   \n",
       "3                 1          4  Life Sciences              1   \n",
       "4                 9          1  Life Sciences              1   \n",
       "\n",
       "   EnvironmentSatisfaction  ... RelationshipSatisfaction  StandardHours  \\\n",
       "0                        4  ...                        4             80   \n",
       "1                        3  ...                        3             80   \n",
       "2                        4  ...                        2             80   \n",
       "3                        3  ...                        3             80   \n",
       "4                        3  ...                        1             80   \n",
       "\n",
       "   StockOptionLevel  TotalWorkingYears TrainingTimesLastYear  WorkLifeBalance  \\\n",
       "0                 0                  1                     2                2   \n",
       "1                 1                  7                     3                3   \n",
       "2                 2                 13                     2                2   \n",
       "3                 0                 14                     2                2   \n",
       "4                 0                  1                     5                3   \n",
       "\n",
       "  YearsAtCompany  YearsInCurrentRole  YearsSinceLastPromotion  \\\n",
       "0              1                   0                        0   \n",
       "1              2                   2                        2   \n",
       "2              7                   7                        1   \n",
       "3             14                  10                       11   \n",
       "4              1                   0                        0   \n",
       "\n",
       "   YearsWithCurrManager  \n",
       "0                     0  \n",
       "1                     2  \n",
       "2                     7  \n",
       "3                     8  \n",
       "4                     0  \n",
       "\n",
       "[5 rows x 34 columns]"
      ]
     },
     "execution_count": 54,
     "metadata": {},
     "output_type": "execute_result"
    }
   ],
   "source": [
    "test.head()\n"
   ]
  },
  {
   "cell_type": "code",
   "execution_count": 55,
   "id": "748f7f9e",
   "metadata": {
    "execution": {
     "iopub.execute_input": "2024-01-16T17:11:58.547807Z",
     "iopub.status.busy": "2024-01-16T17:11:58.546479Z",
     "iopub.status.idle": "2024-01-16T17:11:58.552477Z",
     "shell.execute_reply": "2024-01-16T17:11:58.551288Z"
    },
    "papermill": {
     "duration": 0.045492,
     "end_time": "2024-01-16T17:11:58.554978",
     "exception": false,
     "start_time": "2024-01-16T17:11:58.509486",
     "status": "completed"
    },
    "tags": []
   },
   "outputs": [],
   "source": [
    "drop=['id','JobLevel','EmployeeCount','StandardHours']"
   ]
  },
  {
   "cell_type": "code",
   "execution_count": 56,
   "id": "5b9dd3ad",
   "metadata": {
    "execution": {
     "iopub.execute_input": "2024-01-16T17:11:58.628240Z",
     "iopub.status.busy": "2024-01-16T17:11:58.627032Z",
     "iopub.status.idle": "2024-01-16T17:11:58.633968Z",
     "shell.execute_reply": "2024-01-16T17:11:58.632980Z"
    },
    "papermill": {
     "duration": 0.046526,
     "end_time": "2024-01-16T17:11:58.636349",
     "exception": false,
     "start_time": "2024-01-16T17:11:58.589823",
     "status": "completed"
    },
    "tags": []
   },
   "outputs": [],
   "source": [
    "test.drop(drop, axis=1, inplace=True)"
   ]
  },
  {
   "cell_type": "code",
   "execution_count": 57,
   "id": "b6deb8af",
   "metadata": {
    "execution": {
     "iopub.execute_input": "2024-01-16T17:11:58.710802Z",
     "iopub.status.busy": "2024-01-16T17:11:58.709989Z",
     "iopub.status.idle": "2024-01-16T17:11:58.732399Z",
     "shell.execute_reply": "2024-01-16T17:11:58.731089Z"
    },
    "papermill": {
     "duration": 0.06264,
     "end_time": "2024-01-16T17:11:58.734981",
     "exception": false,
     "start_time": "2024-01-16T17:11:58.672341",
     "status": "completed"
    },
    "tags": []
   },
   "outputs": [
    {
     "data": {
      "text/html": [
       "<div>\n",
       "<style scoped>\n",
       "    .dataframe tbody tr th:only-of-type {\n",
       "        vertical-align: middle;\n",
       "    }\n",
       "\n",
       "    .dataframe tbody tr th {\n",
       "        vertical-align: top;\n",
       "    }\n",
       "\n",
       "    .dataframe thead th {\n",
       "        text-align: right;\n",
       "    }\n",
       "</style>\n",
       "<table border=\"1\" class=\"dataframe\">\n",
       "  <thead>\n",
       "    <tr style=\"text-align: right;\">\n",
       "      <th></th>\n",
       "      <th>Age</th>\n",
       "      <th>BusinessTravel</th>\n",
       "      <th>DailyRate</th>\n",
       "      <th>Department</th>\n",
       "      <th>DistanceFromHome</th>\n",
       "      <th>Education</th>\n",
       "      <th>EducationField</th>\n",
       "      <th>EnvironmentSatisfaction</th>\n",
       "      <th>Gender</th>\n",
       "      <th>HourlyRate</th>\n",
       "      <th>...</th>\n",
       "      <th>PerformanceRating</th>\n",
       "      <th>RelationshipSatisfaction</th>\n",
       "      <th>StockOptionLevel</th>\n",
       "      <th>TotalWorkingYears</th>\n",
       "      <th>TrainingTimesLastYear</th>\n",
       "      <th>WorkLifeBalance</th>\n",
       "      <th>YearsAtCompany</th>\n",
       "      <th>YearsInCurrentRole</th>\n",
       "      <th>YearsSinceLastPromotion</th>\n",
       "      <th>YearsWithCurrManager</th>\n",
       "    </tr>\n",
       "  </thead>\n",
       "  <tbody>\n",
       "    <tr>\n",
       "      <th>0</th>\n",
       "      <td>19</td>\n",
       "      <td>Non-Travel</td>\n",
       "      <td>992</td>\n",
       "      <td>Research &amp; Development</td>\n",
       "      <td>1</td>\n",
       "      <td>1</td>\n",
       "      <td>Medical</td>\n",
       "      <td>4</td>\n",
       "      <td>Male</td>\n",
       "      <td>43</td>\n",
       "      <td>...</td>\n",
       "      <td>3</td>\n",
       "      <td>4</td>\n",
       "      <td>0</td>\n",
       "      <td>1</td>\n",
       "      <td>2</td>\n",
       "      <td>2</td>\n",
       "      <td>1</td>\n",
       "      <td>0</td>\n",
       "      <td>0</td>\n",
       "      <td>0</td>\n",
       "    </tr>\n",
       "    <tr>\n",
       "      <th>1</th>\n",
       "      <td>45</td>\n",
       "      <td>Travel_Rarely</td>\n",
       "      <td>1136</td>\n",
       "      <td>Sales</td>\n",
       "      <td>4</td>\n",
       "      <td>4</td>\n",
       "      <td>Marketing</td>\n",
       "      <td>3</td>\n",
       "      <td>Male</td>\n",
       "      <td>67</td>\n",
       "      <td>...</td>\n",
       "      <td>3</td>\n",
       "      <td>3</td>\n",
       "      <td>1</td>\n",
       "      <td>7</td>\n",
       "      <td>3</td>\n",
       "      <td>3</td>\n",
       "      <td>2</td>\n",
       "      <td>2</td>\n",
       "      <td>2</td>\n",
       "      <td>2</td>\n",
       "    </tr>\n",
       "    <tr>\n",
       "      <th>2</th>\n",
       "      <td>37</td>\n",
       "      <td>Travel_Rarely</td>\n",
       "      <td>155</td>\n",
       "      <td>Research &amp; Development</td>\n",
       "      <td>13</td>\n",
       "      <td>3</td>\n",
       "      <td>Life Sciences</td>\n",
       "      <td>4</td>\n",
       "      <td>Male</td>\n",
       "      <td>41</td>\n",
       "      <td>...</td>\n",
       "      <td>3</td>\n",
       "      <td>2</td>\n",
       "      <td>2</td>\n",
       "      <td>13</td>\n",
       "      <td>2</td>\n",
       "      <td>2</td>\n",
       "      <td>7</td>\n",
       "      <td>7</td>\n",
       "      <td>1</td>\n",
       "      <td>7</td>\n",
       "    </tr>\n",
       "    <tr>\n",
       "      <th>3</th>\n",
       "      <td>32</td>\n",
       "      <td>Travel_Rarely</td>\n",
       "      <td>688</td>\n",
       "      <td>Research &amp; Development</td>\n",
       "      <td>1</td>\n",
       "      <td>4</td>\n",
       "      <td>Life Sciences</td>\n",
       "      <td>3</td>\n",
       "      <td>Male</td>\n",
       "      <td>89</td>\n",
       "      <td>...</td>\n",
       "      <td>3</td>\n",
       "      <td>3</td>\n",
       "      <td>0</td>\n",
       "      <td>14</td>\n",
       "      <td>2</td>\n",
       "      <td>2</td>\n",
       "      <td>14</td>\n",
       "      <td>10</td>\n",
       "      <td>11</td>\n",
       "      <td>8</td>\n",
       "    </tr>\n",
       "    <tr>\n",
       "      <th>4</th>\n",
       "      <td>29</td>\n",
       "      <td>Travel_Frequently</td>\n",
       "      <td>464</td>\n",
       "      <td>Research &amp; Development</td>\n",
       "      <td>9</td>\n",
       "      <td>1</td>\n",
       "      <td>Life Sciences</td>\n",
       "      <td>3</td>\n",
       "      <td>Male</td>\n",
       "      <td>79</td>\n",
       "      <td>...</td>\n",
       "      <td>3</td>\n",
       "      <td>1</td>\n",
       "      <td>0</td>\n",
       "      <td>1</td>\n",
       "      <td>5</td>\n",
       "      <td>3</td>\n",
       "      <td>1</td>\n",
       "      <td>0</td>\n",
       "      <td>0</td>\n",
       "      <td>0</td>\n",
       "    </tr>\n",
       "  </tbody>\n",
       "</table>\n",
       "<p>5 rows × 30 columns</p>\n",
       "</div>"
      ],
      "text/plain": [
       "   Age     BusinessTravel  DailyRate              Department  \\\n",
       "0   19         Non-Travel        992  Research & Development   \n",
       "1   45      Travel_Rarely       1136                   Sales   \n",
       "2   37      Travel_Rarely        155  Research & Development   \n",
       "3   32      Travel_Rarely        688  Research & Development   \n",
       "4   29  Travel_Frequently        464  Research & Development   \n",
       "\n",
       "   DistanceFromHome  Education EducationField  EnvironmentSatisfaction Gender  \\\n",
       "0                 1          1        Medical                        4   Male   \n",
       "1                 4          4      Marketing                        3   Male   \n",
       "2                13          3  Life Sciences                        4   Male   \n",
       "3                 1          4  Life Sciences                        3   Male   \n",
       "4                 9          1  Life Sciences                        3   Male   \n",
       "\n",
       "   HourlyRate  ...  PerformanceRating RelationshipSatisfaction  \\\n",
       "0          43  ...                  3                        4   \n",
       "1          67  ...                  3                        3   \n",
       "2          41  ...                  3                        2   \n",
       "3          89  ...                  3                        3   \n",
       "4          79  ...                  3                        1   \n",
       "\n",
       "   StockOptionLevel TotalWorkingYears  TrainingTimesLastYear  WorkLifeBalance  \\\n",
       "0                 0                 1                      2                2   \n",
       "1                 1                 7                      3                3   \n",
       "2                 2                13                      2                2   \n",
       "3                 0                14                      2                2   \n",
       "4                 0                 1                      5                3   \n",
       "\n",
       "   YearsAtCompany YearsInCurrentRole YearsSinceLastPromotion  \\\n",
       "0               1                  0                       0   \n",
       "1               2                  2                       2   \n",
       "2               7                  7                       1   \n",
       "3              14                 10                      11   \n",
       "4               1                  0                       0   \n",
       "\n",
       "   YearsWithCurrManager  \n",
       "0                     0  \n",
       "1                     2  \n",
       "2                     7  \n",
       "3                     8  \n",
       "4                     0  \n",
       "\n",
       "[5 rows x 30 columns]"
      ]
     },
     "execution_count": 57,
     "metadata": {},
     "output_type": "execute_result"
    }
   ],
   "source": [
    "test.head()"
   ]
  },
  {
   "cell_type": "code",
   "execution_count": 58,
   "id": "741e833e",
   "metadata": {
    "execution": {
     "iopub.execute_input": "2024-01-16T17:11:58.807890Z",
     "iopub.status.busy": "2024-01-16T17:11:58.807086Z",
     "iopub.status.idle": "2024-01-16T17:11:58.820008Z",
     "shell.execute_reply": "2024-01-16T17:11:58.819203Z"
    },
    "papermill": {
     "duration": 0.052758,
     "end_time": "2024-01-16T17:11:58.822660",
     "exception": false,
     "start_time": "2024-01-16T17:11:58.769902",
     "status": "completed"
    },
    "tags": []
   },
   "outputs": [],
   "source": [
    "test = pd.get_dummies(test)"
   ]
  },
  {
   "cell_type": "code",
   "execution_count": 59,
   "id": "1c729cc1",
   "metadata": {
    "execution": {
     "iopub.execute_input": "2024-01-16T17:11:58.896813Z",
     "iopub.status.busy": "2024-01-16T17:11:58.896017Z",
     "iopub.status.idle": "2024-01-16T17:11:58.918720Z",
     "shell.execute_reply": "2024-01-16T17:11:58.917519Z"
    },
    "papermill": {
     "duration": 0.061997,
     "end_time": "2024-01-16T17:11:58.921448",
     "exception": false,
     "start_time": "2024-01-16T17:11:58.859451",
     "status": "completed"
    },
    "tags": []
   },
   "outputs": [
    {
     "data": {
      "text/html": [
       "<div>\n",
       "<style scoped>\n",
       "    .dataframe tbody tr th:only-of-type {\n",
       "        vertical-align: middle;\n",
       "    }\n",
       "\n",
       "    .dataframe tbody tr th {\n",
       "        vertical-align: top;\n",
       "    }\n",
       "\n",
       "    .dataframe thead th {\n",
       "        text-align: right;\n",
       "    }\n",
       "</style>\n",
       "<table border=\"1\" class=\"dataframe\">\n",
       "  <thead>\n",
       "    <tr style=\"text-align: right;\">\n",
       "      <th></th>\n",
       "      <th>Age</th>\n",
       "      <th>DailyRate</th>\n",
       "      <th>DistanceFromHome</th>\n",
       "      <th>Education</th>\n",
       "      <th>EnvironmentSatisfaction</th>\n",
       "      <th>HourlyRate</th>\n",
       "      <th>JobInvolvement</th>\n",
       "      <th>JobSatisfaction</th>\n",
       "      <th>MonthlyIncome</th>\n",
       "      <th>MonthlyRate</th>\n",
       "      <th>...</th>\n",
       "      <th>JobRole_Research Director</th>\n",
       "      <th>JobRole_Research Scientist</th>\n",
       "      <th>JobRole_Sales Executive</th>\n",
       "      <th>JobRole_Sales Representative</th>\n",
       "      <th>MaritalStatus_Divorced</th>\n",
       "      <th>MaritalStatus_Married</th>\n",
       "      <th>MaritalStatus_Single</th>\n",
       "      <th>Over18_Y</th>\n",
       "      <th>OverTime_No</th>\n",
       "      <th>OverTime_Yes</th>\n",
       "    </tr>\n",
       "  </thead>\n",
       "  <tbody>\n",
       "    <tr>\n",
       "      <th>0</th>\n",
       "      <td>19</td>\n",
       "      <td>992</td>\n",
       "      <td>1</td>\n",
       "      <td>1</td>\n",
       "      <td>4</td>\n",
       "      <td>43</td>\n",
       "      <td>3</td>\n",
       "      <td>3</td>\n",
       "      <td>2318</td>\n",
       "      <td>17778</td>\n",
       "      <td>...</td>\n",
       "      <td>False</td>\n",
       "      <td>False</td>\n",
       "      <td>False</td>\n",
       "      <td>False</td>\n",
       "      <td>False</td>\n",
       "      <td>False</td>\n",
       "      <td>True</td>\n",
       "      <td>True</td>\n",
       "      <td>True</td>\n",
       "      <td>False</td>\n",
       "    </tr>\n",
       "    <tr>\n",
       "      <th>1</th>\n",
       "      <td>45</td>\n",
       "      <td>1136</td>\n",
       "      <td>4</td>\n",
       "      <td>4</td>\n",
       "      <td>3</td>\n",
       "      <td>67</td>\n",
       "      <td>3</td>\n",
       "      <td>1</td>\n",
       "      <td>5486</td>\n",
       "      <td>12421</td>\n",
       "      <td>...</td>\n",
       "      <td>False</td>\n",
       "      <td>False</td>\n",
       "      <td>True</td>\n",
       "      <td>False</td>\n",
       "      <td>True</td>\n",
       "      <td>False</td>\n",
       "      <td>False</td>\n",
       "      <td>True</td>\n",
       "      <td>False</td>\n",
       "      <td>True</td>\n",
       "    </tr>\n",
       "    <tr>\n",
       "      <th>2</th>\n",
       "      <td>37</td>\n",
       "      <td>155</td>\n",
       "      <td>13</td>\n",
       "      <td>3</td>\n",
       "      <td>4</td>\n",
       "      <td>41</td>\n",
       "      <td>3</td>\n",
       "      <td>4</td>\n",
       "      <td>2741</td>\n",
       "      <td>23577</td>\n",
       "      <td>...</td>\n",
       "      <td>False</td>\n",
       "      <td>True</td>\n",
       "      <td>False</td>\n",
       "      <td>False</td>\n",
       "      <td>True</td>\n",
       "      <td>False</td>\n",
       "      <td>False</td>\n",
       "      <td>True</td>\n",
       "      <td>False</td>\n",
       "      <td>True</td>\n",
       "    </tr>\n",
       "    <tr>\n",
       "      <th>3</th>\n",
       "      <td>32</td>\n",
       "      <td>688</td>\n",
       "      <td>1</td>\n",
       "      <td>4</td>\n",
       "      <td>3</td>\n",
       "      <td>89</td>\n",
       "      <td>2</td>\n",
       "      <td>3</td>\n",
       "      <td>5228</td>\n",
       "      <td>20364</td>\n",
       "      <td>...</td>\n",
       "      <td>False</td>\n",
       "      <td>False</td>\n",
       "      <td>False</td>\n",
       "      <td>False</td>\n",
       "      <td>False</td>\n",
       "      <td>False</td>\n",
       "      <td>True</td>\n",
       "      <td>True</td>\n",
       "      <td>True</td>\n",
       "      <td>False</td>\n",
       "    </tr>\n",
       "    <tr>\n",
       "      <th>4</th>\n",
       "      <td>29</td>\n",
       "      <td>464</td>\n",
       "      <td>9</td>\n",
       "      <td>1</td>\n",
       "      <td>3</td>\n",
       "      <td>79</td>\n",
       "      <td>3</td>\n",
       "      <td>4</td>\n",
       "      <td>1223</td>\n",
       "      <td>15178</td>\n",
       "      <td>...</td>\n",
       "      <td>False</td>\n",
       "      <td>False</td>\n",
       "      <td>False</td>\n",
       "      <td>False</td>\n",
       "      <td>False</td>\n",
       "      <td>False</td>\n",
       "      <td>True</td>\n",
       "      <td>True</td>\n",
       "      <td>True</td>\n",
       "      <td>False</td>\n",
       "    </tr>\n",
       "  </tbody>\n",
       "</table>\n",
       "<p>5 rows × 51 columns</p>\n",
       "</div>"
      ],
      "text/plain": [
       "   Age  DailyRate  DistanceFromHome  Education  EnvironmentSatisfaction  \\\n",
       "0   19        992                 1          1                        4   \n",
       "1   45       1136                 4          4                        3   \n",
       "2   37        155                13          3                        4   \n",
       "3   32        688                 1          4                        3   \n",
       "4   29        464                 9          1                        3   \n",
       "\n",
       "   HourlyRate  JobInvolvement  JobSatisfaction  MonthlyIncome  MonthlyRate  \\\n",
       "0          43               3                3           2318        17778   \n",
       "1          67               3                1           5486        12421   \n",
       "2          41               3                4           2741        23577   \n",
       "3          89               2                3           5228        20364   \n",
       "4          79               3                4           1223        15178   \n",
       "\n",
       "   ...  JobRole_Research Director  JobRole_Research Scientist  \\\n",
       "0  ...                      False                       False   \n",
       "1  ...                      False                       False   \n",
       "2  ...                      False                        True   \n",
       "3  ...                      False                       False   \n",
       "4  ...                      False                       False   \n",
       "\n",
       "   JobRole_Sales Executive  JobRole_Sales Representative  \\\n",
       "0                    False                         False   \n",
       "1                     True                         False   \n",
       "2                    False                         False   \n",
       "3                    False                         False   \n",
       "4                    False                         False   \n",
       "\n",
       "   MaritalStatus_Divorced  MaritalStatus_Married  MaritalStatus_Single  \\\n",
       "0                   False                  False                  True   \n",
       "1                    True                  False                 False   \n",
       "2                    True                  False                 False   \n",
       "3                   False                  False                  True   \n",
       "4                   False                  False                  True   \n",
       "\n",
       "   Over18_Y  OverTime_No  OverTime_Yes  \n",
       "0      True         True         False  \n",
       "1      True        False          True  \n",
       "2      True        False          True  \n",
       "3      True         True         False  \n",
       "4      True         True         False  \n",
       "\n",
       "[5 rows x 51 columns]"
      ]
     },
     "execution_count": 59,
     "metadata": {},
     "output_type": "execute_result"
    }
   ],
   "source": [
    "test.head()"
   ]
  },
  {
   "cell_type": "code",
   "execution_count": 60,
   "id": "8fa8bc8d",
   "metadata": {
    "execution": {
     "iopub.execute_input": "2024-01-16T17:11:58.994100Z",
     "iopub.status.busy": "2024-01-16T17:11:58.993705Z",
     "iopub.status.idle": "2024-01-16T17:11:59.005052Z",
     "shell.execute_reply": "2024-01-16T17:11:59.004136Z"
    },
    "papermill": {
     "duration": 0.050958,
     "end_time": "2024-01-16T17:11:59.007511",
     "exception": false,
     "start_time": "2024-01-16T17:11:58.956553",
     "status": "completed"
    },
    "tags": []
   },
   "outputs": [],
   "source": [
    "# generate prediction with this best model \n",
    "y_test1 = gb.predict(test)"
   ]
  },
  {
   "cell_type": "code",
   "execution_count": 61,
   "id": "5c7319c9",
   "metadata": {
    "execution": {
     "iopub.execute_input": "2024-01-16T17:11:59.079264Z",
     "iopub.status.busy": "2024-01-16T17:11:59.078875Z",
     "iopub.status.idle": "2024-01-16T17:11:59.084981Z",
     "shell.execute_reply": "2024-01-16T17:11:59.084121Z"
    },
    "papermill": {
     "duration": 0.044502,
     "end_time": "2024-01-16T17:11:59.087191",
     "exception": false,
     "start_time": "2024-01-16T17:11:59.042689",
     "status": "completed"
    },
    "tags": []
   },
   "outputs": [
    {
     "data": {
      "text/plain": [
       "array([0, 0, 0, ..., 0, 0, 0])"
      ]
     },
     "execution_count": 61,
     "metadata": {},
     "output_type": "execute_result"
    }
   ],
   "source": [
    "y_test1"
   ]
  },
  {
   "cell_type": "code",
   "execution_count": 62,
   "id": "766b0d09",
   "metadata": {
    "execution": {
     "iopub.execute_input": "2024-01-16T17:11:59.160426Z",
     "iopub.status.busy": "2024-01-16T17:11:59.159286Z",
     "iopub.status.idle": "2024-01-16T17:11:59.171725Z",
     "shell.execute_reply": "2024-01-16T17:11:59.170519Z"
    },
    "papermill": {
     "duration": 0.051615,
     "end_time": "2024-01-16T17:11:59.174596",
     "exception": false,
     "start_time": "2024-01-16T17:11:59.122981",
     "status": "completed"
    },
    "tags": []
   },
   "outputs": [],
   "source": [
    "sample_submission=pd.read_csv(\"/kaggle/input/ipba17-grade-ml-case-study-classification-code/sample_submission.csv\")"
   ]
  },
  {
   "cell_type": "code",
   "execution_count": 63,
   "id": "581606a9",
   "metadata": {
    "execution": {
     "iopub.execute_input": "2024-01-16T17:11:59.249355Z",
     "iopub.status.busy": "2024-01-16T17:11:59.248590Z",
     "iopub.status.idle": "2024-01-16T17:11:59.253593Z",
     "shell.execute_reply": "2024-01-16T17:11:59.252338Z"
    },
    "papermill": {
     "duration": 0.043513,
     "end_time": "2024-01-16T17:11:59.255869",
     "exception": false,
     "start_time": "2024-01-16T17:11:59.212356",
     "status": "completed"
    },
    "tags": []
   },
   "outputs": [],
   "source": [
    "sample_submission['Attrition'] = y_test1"
   ]
  },
  {
   "cell_type": "code",
   "execution_count": 64,
   "id": "fe8c30b0",
   "metadata": {
    "execution": {
     "iopub.execute_input": "2024-01-16T17:11:59.327497Z",
     "iopub.status.busy": "2024-01-16T17:11:59.326749Z",
     "iopub.status.idle": "2024-01-16T17:11:59.337724Z",
     "shell.execute_reply": "2024-01-16T17:11:59.336526Z"
    },
    "papermill": {
     "duration": 0.049533,
     "end_time": "2024-01-16T17:11:59.340281",
     "exception": false,
     "start_time": "2024-01-16T17:11:59.290748",
     "status": "completed"
    },
    "tags": []
   },
   "outputs": [],
   "source": [
    "sample_submission.to_csv(\"submission.csv\",index=False)"
   ]
  },
  {
   "cell_type": "code",
   "execution_count": null,
   "id": "6eb9a1a9",
   "metadata": {
    "papermill": {
     "duration": 0.034633,
     "end_time": "2024-01-16T17:11:59.410337",
     "exception": false,
     "start_time": "2024-01-16T17:11:59.375704",
     "status": "completed"
    },
    "tags": []
   },
   "outputs": [],
   "source": []
  }
 ],
 "metadata": {
  "kaggle": {
   "accelerator": "none",
   "dataSources": [
    {
     "databundleVersionId": 7432635,
     "sourceId": 66973,
     "sourceType": "competition"
    }
   ],
   "dockerImageVersionId": 30635,
   "isGpuEnabled": false,
   "isInternetEnabled": true,
   "language": "python",
   "sourceType": "notebook"
  },
  "kernelspec": {
   "display_name": "Python 3",
   "language": "python",
   "name": "python3"
  },
  "language_info": {
   "codemirror_mode": {
    "name": "ipython",
    "version": 3
   },
   "file_extension": ".py",
   "mimetype": "text/x-python",
   "name": "python",
   "nbconvert_exporter": "python",
   "pygments_lexer": "ipython3",
   "version": "3.10.12"
  },
  "papermill": {
   "default_parameters": {},
   "duration": 96.66219,
   "end_time": "2024-01-16T17:12:00.268245",
   "environment_variables": {},
   "exception": null,
   "input_path": "__notebook__.ipynb",
   "output_path": "__notebook__.ipynb",
   "parameters": {},
   "start_time": "2024-01-16T17:10:23.606055",
   "version": "2.4.0"
  }
 },
 "nbformat": 4,
 "nbformat_minor": 5
}
